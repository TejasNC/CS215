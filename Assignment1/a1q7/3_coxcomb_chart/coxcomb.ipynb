{
 "cells": [
  {
   "cell_type": "markdown",
   "metadata": {},
   "source": [
    "Import the required libraries"
   ]
  },
  {
   "cell_type": "code",
   "execution_count": 1,
   "metadata": {},
   "outputs": [],
   "source": [
    "import matplotlib.pyplot as plt\n",
    "import pandas as pd\n",
    "import numpy as np\n",
    "import plotly.graph_objects as go"
   ]
  },
  {
   "cell_type": "markdown",
   "metadata": {},
   "source": [
    "Load the dataset"
   ]
  },
  {
   "cell_type": "code",
   "execution_count": 2,
   "metadata": {},
   "outputs": [],
   "source": [
    "df = pd.read_csv('rainfall_area-wt_India_1901-2015.csv')"
   ]
  },
  {
   "cell_type": "code",
   "execution_count": 3,
   "metadata": {},
   "outputs": [
    {
     "data": {
      "text/html": [
       "<div>\n",
       "<style scoped>\n",
       "    .dataframe tbody tr th:only-of-type {\n",
       "        vertical-align: middle;\n",
       "    }\n",
       "\n",
       "    .dataframe tbody tr th {\n",
       "        vertical-align: top;\n",
       "    }\n",
       "\n",
       "    .dataframe thead th {\n",
       "        text-align: right;\n",
       "    }\n",
       "</style>\n",
       "<table border=\"1\" class=\"dataframe\">\n",
       "  <thead>\n",
       "    <tr style=\"text-align: right;\">\n",
       "      <th></th>\n",
       "      <th>REGION</th>\n",
       "      <th>YEAR</th>\n",
       "      <th>JAN</th>\n",
       "      <th>FEB</th>\n",
       "      <th>MAR</th>\n",
       "      <th>APR</th>\n",
       "      <th>MAY</th>\n",
       "      <th>JUN</th>\n",
       "      <th>JUL</th>\n",
       "      <th>AUG</th>\n",
       "      <th>SEP</th>\n",
       "      <th>OCT</th>\n",
       "      <th>NOV</th>\n",
       "      <th>DEC</th>\n",
       "      <th>ANNUAL</th>\n",
       "      <th>Jan-Feb</th>\n",
       "      <th>Mar-May</th>\n",
       "      <th>Jun-Sep</th>\n",
       "      <th>Oct-Dec</th>\n",
       "    </tr>\n",
       "  </thead>\n",
       "  <tbody>\n",
       "    <tr>\n",
       "      <th>0</th>\n",
       "      <td>INDIA</td>\n",
       "      <td>1901</td>\n",
       "      <td>34.7</td>\n",
       "      <td>37.7</td>\n",
       "      <td>18.0</td>\n",
       "      <td>39.3</td>\n",
       "      <td>50.8</td>\n",
       "      <td>113.4</td>\n",
       "      <td>242.2</td>\n",
       "      <td>272.9</td>\n",
       "      <td>124.4</td>\n",
       "      <td>52.7</td>\n",
       "      <td>38.0</td>\n",
       "      <td>8.3</td>\n",
       "      <td>1032.3</td>\n",
       "      <td>72.4</td>\n",
       "      <td>108.1</td>\n",
       "      <td>752.8</td>\n",
       "      <td>99.0</td>\n",
       "    </tr>\n",
       "    <tr>\n",
       "      <th>1</th>\n",
       "      <td>INDIA</td>\n",
       "      <td>1902</td>\n",
       "      <td>7.4</td>\n",
       "      <td>4.3</td>\n",
       "      <td>19.0</td>\n",
       "      <td>43.5</td>\n",
       "      <td>48.3</td>\n",
       "      <td>108.8</td>\n",
       "      <td>284.0</td>\n",
       "      <td>199.7</td>\n",
       "      <td>201.5</td>\n",
       "      <td>61.5</td>\n",
       "      <td>27.9</td>\n",
       "      <td>24.4</td>\n",
       "      <td>1030.2</td>\n",
       "      <td>11.7</td>\n",
       "      <td>110.8</td>\n",
       "      <td>794.0</td>\n",
       "      <td>113.8</td>\n",
       "    </tr>\n",
       "    <tr>\n",
       "      <th>2</th>\n",
       "      <td>INDIA</td>\n",
       "      <td>1903</td>\n",
       "      <td>17.0</td>\n",
       "      <td>8.3</td>\n",
       "      <td>31.3</td>\n",
       "      <td>17.1</td>\n",
       "      <td>59.5</td>\n",
       "      <td>118.3</td>\n",
       "      <td>297.0</td>\n",
       "      <td>270.4</td>\n",
       "      <td>199.1</td>\n",
       "      <td>117.9</td>\n",
       "      <td>36.9</td>\n",
       "      <td>17.7</td>\n",
       "      <td>1190.5</td>\n",
       "      <td>25.3</td>\n",
       "      <td>107.9</td>\n",
       "      <td>884.8</td>\n",
       "      <td>172.5</td>\n",
       "    </tr>\n",
       "    <tr>\n",
       "      <th>3</th>\n",
       "      <td>INDIA</td>\n",
       "      <td>1904</td>\n",
       "      <td>14.4</td>\n",
       "      <td>9.6</td>\n",
       "      <td>31.8</td>\n",
       "      <td>33.1</td>\n",
       "      <td>72.4</td>\n",
       "      <td>164.8</td>\n",
       "      <td>261.0</td>\n",
       "      <td>206.4</td>\n",
       "      <td>129.6</td>\n",
       "      <td>69.0</td>\n",
       "      <td>11.2</td>\n",
       "      <td>16.3</td>\n",
       "      <td>1019.8</td>\n",
       "      <td>24.0</td>\n",
       "      <td>137.4</td>\n",
       "      <td>761.8</td>\n",
       "      <td>96.6</td>\n",
       "    </tr>\n",
       "    <tr>\n",
       "      <th>4</th>\n",
       "      <td>INDIA</td>\n",
       "      <td>1905</td>\n",
       "      <td>25.3</td>\n",
       "      <td>20.9</td>\n",
       "      <td>42.7</td>\n",
       "      <td>33.7</td>\n",
       "      <td>55.7</td>\n",
       "      <td>93.3</td>\n",
       "      <td>252.8</td>\n",
       "      <td>200.8</td>\n",
       "      <td>178.4</td>\n",
       "      <td>51.4</td>\n",
       "      <td>9.7</td>\n",
       "      <td>10.5</td>\n",
       "      <td>975.3</td>\n",
       "      <td>46.2</td>\n",
       "      <td>132.2</td>\n",
       "      <td>725.4</td>\n",
       "      <td>71.6</td>\n",
       "    </tr>\n",
       "    <tr>\n",
       "      <th>...</th>\n",
       "      <td>...</td>\n",
       "      <td>...</td>\n",
       "      <td>...</td>\n",
       "      <td>...</td>\n",
       "      <td>...</td>\n",
       "      <td>...</td>\n",
       "      <td>...</td>\n",
       "      <td>...</td>\n",
       "      <td>...</td>\n",
       "      <td>...</td>\n",
       "      <td>...</td>\n",
       "      <td>...</td>\n",
       "      <td>...</td>\n",
       "      <td>...</td>\n",
       "      <td>...</td>\n",
       "      <td>...</td>\n",
       "      <td>...</td>\n",
       "      <td>...</td>\n",
       "      <td>...</td>\n",
       "    </tr>\n",
       "    <tr>\n",
       "      <th>110</th>\n",
       "      <td>INDIA</td>\n",
       "      <td>2011</td>\n",
       "      <td>7.7</td>\n",
       "      <td>26.3</td>\n",
       "      <td>21.4</td>\n",
       "      <td>41.0</td>\n",
       "      <td>51.6</td>\n",
       "      <td>182.8</td>\n",
       "      <td>243.0</td>\n",
       "      <td>284.6</td>\n",
       "      <td>190.5</td>\n",
       "      <td>36.5</td>\n",
       "      <td>18.4</td>\n",
       "      <td>6.5</td>\n",
       "      <td>1110.1</td>\n",
       "      <td>34.0</td>\n",
       "      <td>113.9</td>\n",
       "      <td>900.9</td>\n",
       "      <td>61.4</td>\n",
       "    </tr>\n",
       "    <tr>\n",
       "      <th>111</th>\n",
       "      <td>INDIA</td>\n",
       "      <td>2012</td>\n",
       "      <td>28.5</td>\n",
       "      <td>10.8</td>\n",
       "      <td>10.6</td>\n",
       "      <td>48.5</td>\n",
       "      <td>32.1</td>\n",
       "      <td>125.0</td>\n",
       "      <td>258.1</td>\n",
       "      <td>263.9</td>\n",
       "      <td>197.7</td>\n",
       "      <td>59.8</td>\n",
       "      <td>28.9</td>\n",
       "      <td>9.6</td>\n",
       "      <td>1073.5</td>\n",
       "      <td>39.3</td>\n",
       "      <td>91.2</td>\n",
       "      <td>844.7</td>\n",
       "      <td>98.3</td>\n",
       "    </tr>\n",
       "    <tr>\n",
       "      <th>112</th>\n",
       "      <td>INDIA</td>\n",
       "      <td>2013</td>\n",
       "      <td>10.0</td>\n",
       "      <td>36.9</td>\n",
       "      <td>14.5</td>\n",
       "      <td>29.4</td>\n",
       "      <td>56.5</td>\n",
       "      <td>217.9</td>\n",
       "      <td>305.4</td>\n",
       "      <td>248.4</td>\n",
       "      <td>148.4</td>\n",
       "      <td>128.9</td>\n",
       "      <td>13.7</td>\n",
       "      <td>6.2</td>\n",
       "      <td>1216.2</td>\n",
       "      <td>46.9</td>\n",
       "      <td>100.4</td>\n",
       "      <td>920.1</td>\n",
       "      <td>148.7</td>\n",
       "    </tr>\n",
       "    <tr>\n",
       "      <th>113</th>\n",
       "      <td>INDIA</td>\n",
       "      <td>2014</td>\n",
       "      <td>17.3</td>\n",
       "      <td>25.9</td>\n",
       "      <td>32.6</td>\n",
       "      <td>20.2</td>\n",
       "      <td>72.8</td>\n",
       "      <td>95.5</td>\n",
       "      <td>258.8</td>\n",
       "      <td>237.9</td>\n",
       "      <td>187.9</td>\n",
       "      <td>60.9</td>\n",
       "      <td>13.5</td>\n",
       "      <td>10.4</td>\n",
       "      <td>1033.7</td>\n",
       "      <td>43.2</td>\n",
       "      <td>125.5</td>\n",
       "      <td>780.1</td>\n",
       "      <td>84.8</td>\n",
       "    </tr>\n",
       "    <tr>\n",
       "      <th>114</th>\n",
       "      <td>INDIA</td>\n",
       "      <td>2015</td>\n",
       "      <td>17.4</td>\n",
       "      <td>21.0</td>\n",
       "      <td>62.0</td>\n",
       "      <td>69.4</td>\n",
       "      <td>53.8</td>\n",
       "      <td>192.8</td>\n",
       "      <td>242.4</td>\n",
       "      <td>205.2</td>\n",
       "      <td>131.8</td>\n",
       "      <td>42.9</td>\n",
       "      <td>39.4</td>\n",
       "      <td>15.0</td>\n",
       "      <td>1093.2</td>\n",
       "      <td>38.4</td>\n",
       "      <td>185.2</td>\n",
       "      <td>772.2</td>\n",
       "      <td>97.3</td>\n",
       "    </tr>\n",
       "  </tbody>\n",
       "</table>\n",
       "<p>115 rows × 19 columns</p>\n",
       "</div>"
      ],
      "text/plain": [
       "    REGION  YEAR   JAN   FEB   MAR   APR   MAY    JUN    JUL    AUG    SEP  \\\n",
       "0    INDIA  1901  34.7  37.7  18.0  39.3  50.8  113.4  242.2  272.9  124.4   \n",
       "1    INDIA  1902   7.4   4.3  19.0  43.5  48.3  108.8  284.0  199.7  201.5   \n",
       "2    INDIA  1903  17.0   8.3  31.3  17.1  59.5  118.3  297.0  270.4  199.1   \n",
       "3    INDIA  1904  14.4   9.6  31.8  33.1  72.4  164.8  261.0  206.4  129.6   \n",
       "4    INDIA  1905  25.3  20.9  42.7  33.7  55.7   93.3  252.8  200.8  178.4   \n",
       "..     ...   ...   ...   ...   ...   ...   ...    ...    ...    ...    ...   \n",
       "110  INDIA  2011   7.7  26.3  21.4  41.0  51.6  182.8  243.0  284.6  190.5   \n",
       "111  INDIA  2012  28.5  10.8  10.6  48.5  32.1  125.0  258.1  263.9  197.7   \n",
       "112  INDIA  2013  10.0  36.9  14.5  29.4  56.5  217.9  305.4  248.4  148.4   \n",
       "113  INDIA  2014  17.3  25.9  32.6  20.2  72.8   95.5  258.8  237.9  187.9   \n",
       "114  INDIA  2015  17.4  21.0  62.0  69.4  53.8  192.8  242.4  205.2  131.8   \n",
       "\n",
       "       OCT   NOV   DEC  ANNUAL  Jan-Feb  Mar-May  Jun-Sep  Oct-Dec  \n",
       "0     52.7  38.0   8.3  1032.3     72.4    108.1    752.8     99.0  \n",
       "1     61.5  27.9  24.4  1030.2     11.7    110.8    794.0    113.8  \n",
       "2    117.9  36.9  17.7  1190.5     25.3    107.9    884.8    172.5  \n",
       "3     69.0  11.2  16.3  1019.8     24.0    137.4    761.8     96.6  \n",
       "4     51.4   9.7  10.5   975.3     46.2    132.2    725.4     71.6  \n",
       "..     ...   ...   ...     ...      ...      ...      ...      ...  \n",
       "110   36.5  18.4   6.5  1110.1     34.0    113.9    900.9     61.4  \n",
       "111   59.8  28.9   9.6  1073.5     39.3     91.2    844.7     98.3  \n",
       "112  128.9  13.7   6.2  1216.2     46.9    100.4    920.1    148.7  \n",
       "113   60.9  13.5  10.4  1033.7     43.2    125.5    780.1     84.8  \n",
       "114   42.9  39.4  15.0  1093.2     38.4    185.2    772.2     97.3  \n",
       "\n",
       "[115 rows x 19 columns]"
      ]
     },
     "execution_count": 3,
     "metadata": {},
     "output_type": "execute_result"
    }
   ],
   "source": [
    "df"
   ]
  },
  {
   "cell_type": "code",
   "execution_count": 4,
   "metadata": {},
   "outputs": [
    {
     "name": "stdout",
     "output_type": "stream",
     "text": [
      "<class 'pandas.core.frame.DataFrame'>\n",
      "RangeIndex: 115 entries, 0 to 114\n",
      "Data columns (total 19 columns):\n",
      " #   Column   Non-Null Count  Dtype  \n",
      "---  ------   --------------  -----  \n",
      " 0   REGION   115 non-null    object \n",
      " 1   YEAR     115 non-null    int64  \n",
      " 2   JAN      115 non-null    float64\n",
      " 3   FEB      115 non-null    float64\n",
      " 4   MAR      115 non-null    float64\n",
      " 5   APR      115 non-null    float64\n",
      " 6   MAY      115 non-null    float64\n",
      " 7   JUN      115 non-null    float64\n",
      " 8   JUL      115 non-null    float64\n",
      " 9   AUG      115 non-null    float64\n",
      " 10  SEP      115 non-null    float64\n",
      " 11  OCT      115 non-null    float64\n",
      " 12  NOV      115 non-null    float64\n",
      " 13  DEC      115 non-null    float64\n",
      " 14  ANNUAL   115 non-null    float64\n",
      " 15  Jan-Feb  115 non-null    float64\n",
      " 16  Mar-May  115 non-null    float64\n",
      " 17  Jun-Sep  115 non-null    float64\n",
      " 18  Oct-Dec  115 non-null    float64\n",
      "dtypes: float64(17), int64(1), object(1)\n",
      "memory usage: 17.2+ KB\n"
     ]
    }
   ],
   "source": [
    "df.info()"
   ]
  },
  {
   "cell_type": "markdown",
   "metadata": {},
   "source": [
    "Dropping unnecessary columns"
   ]
  },
  {
   "cell_type": "code",
   "execution_count": 5,
   "metadata": {},
   "outputs": [
    {
     "data": {
      "text/html": [
       "<div>\n",
       "<style scoped>\n",
       "    .dataframe tbody tr th:only-of-type {\n",
       "        vertical-align: middle;\n",
       "    }\n",
       "\n",
       "    .dataframe tbody tr th {\n",
       "        vertical-align: top;\n",
       "    }\n",
       "\n",
       "    .dataframe thead th {\n",
       "        text-align: right;\n",
       "    }\n",
       "</style>\n",
       "<table border=\"1\" class=\"dataframe\">\n",
       "  <thead>\n",
       "    <tr style=\"text-align: right;\">\n",
       "      <th></th>\n",
       "      <th>YEAR</th>\n",
       "      <th>JAN</th>\n",
       "      <th>FEB</th>\n",
       "      <th>MAR</th>\n",
       "      <th>APR</th>\n",
       "      <th>MAY</th>\n",
       "      <th>JUN</th>\n",
       "      <th>JUL</th>\n",
       "      <th>AUG</th>\n",
       "      <th>SEP</th>\n",
       "      <th>OCT</th>\n",
       "      <th>NOV</th>\n",
       "      <th>DEC</th>\n",
       "    </tr>\n",
       "  </thead>\n",
       "  <tbody>\n",
       "    <tr>\n",
       "      <th>0</th>\n",
       "      <td>1901</td>\n",
       "      <td>34.7</td>\n",
       "      <td>37.7</td>\n",
       "      <td>18.0</td>\n",
       "      <td>39.3</td>\n",
       "      <td>50.8</td>\n",
       "      <td>113.4</td>\n",
       "      <td>242.2</td>\n",
       "      <td>272.9</td>\n",
       "      <td>124.4</td>\n",
       "      <td>52.7</td>\n",
       "      <td>38.0</td>\n",
       "      <td>8.3</td>\n",
       "    </tr>\n",
       "    <tr>\n",
       "      <th>1</th>\n",
       "      <td>1902</td>\n",
       "      <td>7.4</td>\n",
       "      <td>4.3</td>\n",
       "      <td>19.0</td>\n",
       "      <td>43.5</td>\n",
       "      <td>48.3</td>\n",
       "      <td>108.8</td>\n",
       "      <td>284.0</td>\n",
       "      <td>199.7</td>\n",
       "      <td>201.5</td>\n",
       "      <td>61.5</td>\n",
       "      <td>27.9</td>\n",
       "      <td>24.4</td>\n",
       "    </tr>\n",
       "    <tr>\n",
       "      <th>2</th>\n",
       "      <td>1903</td>\n",
       "      <td>17.0</td>\n",
       "      <td>8.3</td>\n",
       "      <td>31.3</td>\n",
       "      <td>17.1</td>\n",
       "      <td>59.5</td>\n",
       "      <td>118.3</td>\n",
       "      <td>297.0</td>\n",
       "      <td>270.4</td>\n",
       "      <td>199.1</td>\n",
       "      <td>117.9</td>\n",
       "      <td>36.9</td>\n",
       "      <td>17.7</td>\n",
       "    </tr>\n",
       "    <tr>\n",
       "      <th>3</th>\n",
       "      <td>1904</td>\n",
       "      <td>14.4</td>\n",
       "      <td>9.6</td>\n",
       "      <td>31.8</td>\n",
       "      <td>33.1</td>\n",
       "      <td>72.4</td>\n",
       "      <td>164.8</td>\n",
       "      <td>261.0</td>\n",
       "      <td>206.4</td>\n",
       "      <td>129.6</td>\n",
       "      <td>69.0</td>\n",
       "      <td>11.2</td>\n",
       "      <td>16.3</td>\n",
       "    </tr>\n",
       "    <tr>\n",
       "      <th>4</th>\n",
       "      <td>1905</td>\n",
       "      <td>25.3</td>\n",
       "      <td>20.9</td>\n",
       "      <td>42.7</td>\n",
       "      <td>33.7</td>\n",
       "      <td>55.7</td>\n",
       "      <td>93.3</td>\n",
       "      <td>252.8</td>\n",
       "      <td>200.8</td>\n",
       "      <td>178.4</td>\n",
       "      <td>51.4</td>\n",
       "      <td>9.7</td>\n",
       "      <td>10.5</td>\n",
       "    </tr>\n",
       "    <tr>\n",
       "      <th>...</th>\n",
       "      <td>...</td>\n",
       "      <td>...</td>\n",
       "      <td>...</td>\n",
       "      <td>...</td>\n",
       "      <td>...</td>\n",
       "      <td>...</td>\n",
       "      <td>...</td>\n",
       "      <td>...</td>\n",
       "      <td>...</td>\n",
       "      <td>...</td>\n",
       "      <td>...</td>\n",
       "      <td>...</td>\n",
       "      <td>...</td>\n",
       "    </tr>\n",
       "    <tr>\n",
       "      <th>110</th>\n",
       "      <td>2011</td>\n",
       "      <td>7.7</td>\n",
       "      <td>26.3</td>\n",
       "      <td>21.4</td>\n",
       "      <td>41.0</td>\n",
       "      <td>51.6</td>\n",
       "      <td>182.8</td>\n",
       "      <td>243.0</td>\n",
       "      <td>284.6</td>\n",
       "      <td>190.5</td>\n",
       "      <td>36.5</td>\n",
       "      <td>18.4</td>\n",
       "      <td>6.5</td>\n",
       "    </tr>\n",
       "    <tr>\n",
       "      <th>111</th>\n",
       "      <td>2012</td>\n",
       "      <td>28.5</td>\n",
       "      <td>10.8</td>\n",
       "      <td>10.6</td>\n",
       "      <td>48.5</td>\n",
       "      <td>32.1</td>\n",
       "      <td>125.0</td>\n",
       "      <td>258.1</td>\n",
       "      <td>263.9</td>\n",
       "      <td>197.7</td>\n",
       "      <td>59.8</td>\n",
       "      <td>28.9</td>\n",
       "      <td>9.6</td>\n",
       "    </tr>\n",
       "    <tr>\n",
       "      <th>112</th>\n",
       "      <td>2013</td>\n",
       "      <td>10.0</td>\n",
       "      <td>36.9</td>\n",
       "      <td>14.5</td>\n",
       "      <td>29.4</td>\n",
       "      <td>56.5</td>\n",
       "      <td>217.9</td>\n",
       "      <td>305.4</td>\n",
       "      <td>248.4</td>\n",
       "      <td>148.4</td>\n",
       "      <td>128.9</td>\n",
       "      <td>13.7</td>\n",
       "      <td>6.2</td>\n",
       "    </tr>\n",
       "    <tr>\n",
       "      <th>113</th>\n",
       "      <td>2014</td>\n",
       "      <td>17.3</td>\n",
       "      <td>25.9</td>\n",
       "      <td>32.6</td>\n",
       "      <td>20.2</td>\n",
       "      <td>72.8</td>\n",
       "      <td>95.5</td>\n",
       "      <td>258.8</td>\n",
       "      <td>237.9</td>\n",
       "      <td>187.9</td>\n",
       "      <td>60.9</td>\n",
       "      <td>13.5</td>\n",
       "      <td>10.4</td>\n",
       "    </tr>\n",
       "    <tr>\n",
       "      <th>114</th>\n",
       "      <td>2015</td>\n",
       "      <td>17.4</td>\n",
       "      <td>21.0</td>\n",
       "      <td>62.0</td>\n",
       "      <td>69.4</td>\n",
       "      <td>53.8</td>\n",
       "      <td>192.8</td>\n",
       "      <td>242.4</td>\n",
       "      <td>205.2</td>\n",
       "      <td>131.8</td>\n",
       "      <td>42.9</td>\n",
       "      <td>39.4</td>\n",
       "      <td>15.0</td>\n",
       "    </tr>\n",
       "  </tbody>\n",
       "</table>\n",
       "<p>115 rows × 13 columns</p>\n",
       "</div>"
      ],
      "text/plain": [
       "     YEAR   JAN   FEB   MAR   APR   MAY    JUN    JUL    AUG    SEP    OCT  \\\n",
       "0    1901  34.7  37.7  18.0  39.3  50.8  113.4  242.2  272.9  124.4   52.7   \n",
       "1    1902   7.4   4.3  19.0  43.5  48.3  108.8  284.0  199.7  201.5   61.5   \n",
       "2    1903  17.0   8.3  31.3  17.1  59.5  118.3  297.0  270.4  199.1  117.9   \n",
       "3    1904  14.4   9.6  31.8  33.1  72.4  164.8  261.0  206.4  129.6   69.0   \n",
       "4    1905  25.3  20.9  42.7  33.7  55.7   93.3  252.8  200.8  178.4   51.4   \n",
       "..    ...   ...   ...   ...   ...   ...    ...    ...    ...    ...    ...   \n",
       "110  2011   7.7  26.3  21.4  41.0  51.6  182.8  243.0  284.6  190.5   36.5   \n",
       "111  2012  28.5  10.8  10.6  48.5  32.1  125.0  258.1  263.9  197.7   59.8   \n",
       "112  2013  10.0  36.9  14.5  29.4  56.5  217.9  305.4  248.4  148.4  128.9   \n",
       "113  2014  17.3  25.9  32.6  20.2  72.8   95.5  258.8  237.9  187.9   60.9   \n",
       "114  2015  17.4  21.0  62.0  69.4  53.8  192.8  242.4  205.2  131.8   42.9   \n",
       "\n",
       "      NOV   DEC  \n",
       "0    38.0   8.3  \n",
       "1    27.9  24.4  \n",
       "2    36.9  17.7  \n",
       "3    11.2  16.3  \n",
       "4     9.7  10.5  \n",
       "..    ...   ...  \n",
       "110  18.4   6.5  \n",
       "111  28.9   9.6  \n",
       "112  13.7   6.2  \n",
       "113  13.5  10.4  \n",
       "114  39.4  15.0  \n",
       "\n",
       "[115 rows x 13 columns]"
      ]
     },
     "execution_count": 5,
     "metadata": {},
     "output_type": "execute_result"
    }
   ],
   "source": [
    "df = df.drop(columns=['ANNUAL', 'Jan-Feb', 'Mar-May', 'Jun-Sep', 'Oct-Dec', 'REGION'])\n",
    "df"
   ]
  },
  {
   "cell_type": "code",
   "execution_count": 6,
   "metadata": {},
   "outputs": [],
   "source": [
    "df = df[df['YEAR'] > 1999]"
   ]
  },
  {
   "cell_type": "code",
   "execution_count": 7,
   "metadata": {},
   "outputs": [
    {
     "data": {
      "text/html": [
       "<div>\n",
       "<style scoped>\n",
       "    .dataframe tbody tr th:only-of-type {\n",
       "        vertical-align: middle;\n",
       "    }\n",
       "\n",
       "    .dataframe tbody tr th {\n",
       "        vertical-align: top;\n",
       "    }\n",
       "\n",
       "    .dataframe thead th {\n",
       "        text-align: right;\n",
       "    }\n",
       "</style>\n",
       "<table border=\"1\" class=\"dataframe\">\n",
       "  <thead>\n",
       "    <tr style=\"text-align: right;\">\n",
       "      <th></th>\n",
       "      <th>YEAR</th>\n",
       "      <th>JAN</th>\n",
       "      <th>FEB</th>\n",
       "      <th>MAR</th>\n",
       "      <th>APR</th>\n",
       "      <th>MAY</th>\n",
       "      <th>JUN</th>\n",
       "      <th>JUL</th>\n",
       "      <th>AUG</th>\n",
       "      <th>SEP</th>\n",
       "      <th>OCT</th>\n",
       "      <th>NOV</th>\n",
       "      <th>DEC</th>\n",
       "    </tr>\n",
       "  </thead>\n",
       "  <tbody>\n",
       "    <tr>\n",
       "      <th>99</th>\n",
       "      <td>2000</td>\n",
       "      <td>19.0</td>\n",
       "      <td>27.0</td>\n",
       "      <td>18.6</td>\n",
       "      <td>35.0</td>\n",
       "      <td>73.5</td>\n",
       "      <td>184.5</td>\n",
       "      <td>267.6</td>\n",
       "      <td>225.2</td>\n",
       "      <td>135.3</td>\n",
       "      <td>40.6</td>\n",
       "      <td>14.7</td>\n",
       "      <td>9.6</td>\n",
       "    </tr>\n",
       "    <tr>\n",
       "      <th>100</th>\n",
       "      <td>2001</td>\n",
       "      <td>7.2</td>\n",
       "      <td>10.3</td>\n",
       "      <td>21.3</td>\n",
       "      <td>45.5</td>\n",
       "      <td>61.3</td>\n",
       "      <td>215.1</td>\n",
       "      <td>281.1</td>\n",
       "      <td>210.0</td>\n",
       "      <td>109.2</td>\n",
       "      <td>97.7</td>\n",
       "      <td>18.5</td>\n",
       "      <td>6.0</td>\n",
       "    </tr>\n",
       "    <tr>\n",
       "      <th>101</th>\n",
       "      <td>2002</td>\n",
       "      <td>16.8</td>\n",
       "      <td>21.0</td>\n",
       "      <td>22.9</td>\n",
       "      <td>38.9</td>\n",
       "      <td>57.7</td>\n",
       "      <td>170.1</td>\n",
       "      <td>138.9</td>\n",
       "      <td>246.2</td>\n",
       "      <td>133.9</td>\n",
       "      <td>54.4</td>\n",
       "      <td>14.7</td>\n",
       "      <td>5.2</td>\n",
       "    </tr>\n",
       "    <tr>\n",
       "      <th>102</th>\n",
       "      <td>2003</td>\n",
       "      <td>7.2</td>\n",
       "      <td>42.1</td>\n",
       "      <td>33.7</td>\n",
       "      <td>35.5</td>\n",
       "      <td>38.6</td>\n",
       "      <td>164.5</td>\n",
       "      <td>305.6</td>\n",
       "      <td>247.8</td>\n",
       "      <td>179.9</td>\n",
       "      <td>92.7</td>\n",
       "      <td>10.2</td>\n",
       "      <td>16.6</td>\n",
       "    </tr>\n",
       "    <tr>\n",
       "      <th>103</th>\n",
       "      <td>2004</td>\n",
       "      <td>26.2</td>\n",
       "      <td>10.7</td>\n",
       "      <td>11.9</td>\n",
       "      <td>50.6</td>\n",
       "      <td>74.5</td>\n",
       "      <td>167.8</td>\n",
       "      <td>241.7</td>\n",
       "      <td>252.5</td>\n",
       "      <td>123.6</td>\n",
       "      <td>88.8</td>\n",
       "      <td>16.9</td>\n",
       "      <td>6.1</td>\n",
       "    </tr>\n",
       "    <tr>\n",
       "      <th>104</th>\n",
       "      <td>2005</td>\n",
       "      <td>40.3</td>\n",
       "      <td>46.0</td>\n",
       "      <td>42.6</td>\n",
       "      <td>38.5</td>\n",
       "      <td>50.3</td>\n",
       "      <td>146.9</td>\n",
       "      <td>340.3</td>\n",
       "      <td>192.0</td>\n",
       "      <td>200.7</td>\n",
       "      <td>96.2</td>\n",
       "      <td>27.2</td>\n",
       "      <td>11.5</td>\n",
       "    </tr>\n",
       "    <tr>\n",
       "      <th>105</th>\n",
       "      <td>2006</td>\n",
       "      <td>17.4</td>\n",
       "      <td>11.5</td>\n",
       "      <td>34.4</td>\n",
       "      <td>30.4</td>\n",
       "      <td>80.7</td>\n",
       "      <td>151.4</td>\n",
       "      <td>298.5</td>\n",
       "      <td>302.6</td>\n",
       "      <td>175.4</td>\n",
       "      <td>52.3</td>\n",
       "      <td>32.1</td>\n",
       "      <td>12.7</td>\n",
       "    </tr>\n",
       "    <tr>\n",
       "      <th>106</th>\n",
       "      <td>2007</td>\n",
       "      <td>2.7</td>\n",
       "      <td>35.7</td>\n",
       "      <td>34.4</td>\n",
       "      <td>33.6</td>\n",
       "      <td>50.4</td>\n",
       "      <td>201.4</td>\n",
       "      <td>295.8</td>\n",
       "      <td>259.2</td>\n",
       "      <td>215.1</td>\n",
       "      <td>55.3</td>\n",
       "      <td>15.2</td>\n",
       "      <td>16.7</td>\n",
       "    </tr>\n",
       "    <tr>\n",
       "      <th>107</th>\n",
       "      <td>2008</td>\n",
       "      <td>22.4</td>\n",
       "      <td>19.2</td>\n",
       "      <td>37.7</td>\n",
       "      <td>32.6</td>\n",
       "      <td>45.2</td>\n",
       "      <td>208.8</td>\n",
       "      <td>250.0</td>\n",
       "      <td>264.3</td>\n",
       "      <td>165.7</td>\n",
       "      <td>50.5</td>\n",
       "      <td>25.1</td>\n",
       "      <td>10.8</td>\n",
       "    </tr>\n",
       "    <tr>\n",
       "      <th>108</th>\n",
       "      <td>2009</td>\n",
       "      <td>11.8</td>\n",
       "      <td>13.2</td>\n",
       "      <td>15.2</td>\n",
       "      <td>26.0</td>\n",
       "      <td>56.6</td>\n",
       "      <td>86.5</td>\n",
       "      <td>283.7</td>\n",
       "      <td>191.9</td>\n",
       "      <td>140.3</td>\n",
       "      <td>70.1</td>\n",
       "      <td>53.2</td>\n",
       "      <td>10.8</td>\n",
       "    </tr>\n",
       "    <tr>\n",
       "      <th>109</th>\n",
       "      <td>2010</td>\n",
       "      <td>7.5</td>\n",
       "      <td>16.3</td>\n",
       "      <td>16.6</td>\n",
       "      <td>42.1</td>\n",
       "      <td>69.0</td>\n",
       "      <td>140.9</td>\n",
       "      <td>293.6</td>\n",
       "      <td>272.3</td>\n",
       "      <td>195.6</td>\n",
       "      <td>67.7</td>\n",
       "      <td>56.7</td>\n",
       "      <td>22.1</td>\n",
       "    </tr>\n",
       "    <tr>\n",
       "      <th>110</th>\n",
       "      <td>2011</td>\n",
       "      <td>7.7</td>\n",
       "      <td>26.3</td>\n",
       "      <td>21.4</td>\n",
       "      <td>41.0</td>\n",
       "      <td>51.6</td>\n",
       "      <td>182.8</td>\n",
       "      <td>243.0</td>\n",
       "      <td>284.6</td>\n",
       "      <td>190.5</td>\n",
       "      <td>36.5</td>\n",
       "      <td>18.4</td>\n",
       "      <td>6.5</td>\n",
       "    </tr>\n",
       "    <tr>\n",
       "      <th>111</th>\n",
       "      <td>2012</td>\n",
       "      <td>28.5</td>\n",
       "      <td>10.8</td>\n",
       "      <td>10.6</td>\n",
       "      <td>48.5</td>\n",
       "      <td>32.1</td>\n",
       "      <td>125.0</td>\n",
       "      <td>258.1</td>\n",
       "      <td>263.9</td>\n",
       "      <td>197.7</td>\n",
       "      <td>59.8</td>\n",
       "      <td>28.9</td>\n",
       "      <td>9.6</td>\n",
       "    </tr>\n",
       "    <tr>\n",
       "      <th>112</th>\n",
       "      <td>2013</td>\n",
       "      <td>10.0</td>\n",
       "      <td>36.9</td>\n",
       "      <td>14.5</td>\n",
       "      <td>29.4</td>\n",
       "      <td>56.5</td>\n",
       "      <td>217.9</td>\n",
       "      <td>305.4</td>\n",
       "      <td>248.4</td>\n",
       "      <td>148.4</td>\n",
       "      <td>128.9</td>\n",
       "      <td>13.7</td>\n",
       "      <td>6.2</td>\n",
       "    </tr>\n",
       "    <tr>\n",
       "      <th>113</th>\n",
       "      <td>2014</td>\n",
       "      <td>17.3</td>\n",
       "      <td>25.9</td>\n",
       "      <td>32.6</td>\n",
       "      <td>20.2</td>\n",
       "      <td>72.8</td>\n",
       "      <td>95.5</td>\n",
       "      <td>258.8</td>\n",
       "      <td>237.9</td>\n",
       "      <td>187.9</td>\n",
       "      <td>60.9</td>\n",
       "      <td>13.5</td>\n",
       "      <td>10.4</td>\n",
       "    </tr>\n",
       "    <tr>\n",
       "      <th>114</th>\n",
       "      <td>2015</td>\n",
       "      <td>17.4</td>\n",
       "      <td>21.0</td>\n",
       "      <td>62.0</td>\n",
       "      <td>69.4</td>\n",
       "      <td>53.8</td>\n",
       "      <td>192.8</td>\n",
       "      <td>242.4</td>\n",
       "      <td>205.2</td>\n",
       "      <td>131.8</td>\n",
       "      <td>42.9</td>\n",
       "      <td>39.4</td>\n",
       "      <td>15.0</td>\n",
       "    </tr>\n",
       "  </tbody>\n",
       "</table>\n",
       "</div>"
      ],
      "text/plain": [
       "     YEAR   JAN   FEB   MAR   APR   MAY    JUN    JUL    AUG    SEP    OCT  \\\n",
       "99   2000  19.0  27.0  18.6  35.0  73.5  184.5  267.6  225.2  135.3   40.6   \n",
       "100  2001   7.2  10.3  21.3  45.5  61.3  215.1  281.1  210.0  109.2   97.7   \n",
       "101  2002  16.8  21.0  22.9  38.9  57.7  170.1  138.9  246.2  133.9   54.4   \n",
       "102  2003   7.2  42.1  33.7  35.5  38.6  164.5  305.6  247.8  179.9   92.7   \n",
       "103  2004  26.2  10.7  11.9  50.6  74.5  167.8  241.7  252.5  123.6   88.8   \n",
       "104  2005  40.3  46.0  42.6  38.5  50.3  146.9  340.3  192.0  200.7   96.2   \n",
       "105  2006  17.4  11.5  34.4  30.4  80.7  151.4  298.5  302.6  175.4   52.3   \n",
       "106  2007   2.7  35.7  34.4  33.6  50.4  201.4  295.8  259.2  215.1   55.3   \n",
       "107  2008  22.4  19.2  37.7  32.6  45.2  208.8  250.0  264.3  165.7   50.5   \n",
       "108  2009  11.8  13.2  15.2  26.0  56.6   86.5  283.7  191.9  140.3   70.1   \n",
       "109  2010   7.5  16.3  16.6  42.1  69.0  140.9  293.6  272.3  195.6   67.7   \n",
       "110  2011   7.7  26.3  21.4  41.0  51.6  182.8  243.0  284.6  190.5   36.5   \n",
       "111  2012  28.5  10.8  10.6  48.5  32.1  125.0  258.1  263.9  197.7   59.8   \n",
       "112  2013  10.0  36.9  14.5  29.4  56.5  217.9  305.4  248.4  148.4  128.9   \n",
       "113  2014  17.3  25.9  32.6  20.2  72.8   95.5  258.8  237.9  187.9   60.9   \n",
       "114  2015  17.4  21.0  62.0  69.4  53.8  192.8  242.4  205.2  131.8   42.9   \n",
       "\n",
       "      NOV   DEC  \n",
       "99   14.7   9.6  \n",
       "100  18.5   6.0  \n",
       "101  14.7   5.2  \n",
       "102  10.2  16.6  \n",
       "103  16.9   6.1  \n",
       "104  27.2  11.5  \n",
       "105  32.1  12.7  \n",
       "106  15.2  16.7  \n",
       "107  25.1  10.8  \n",
       "108  53.2  10.8  \n",
       "109  56.7  22.1  \n",
       "110  18.4   6.5  \n",
       "111  28.9   9.6  \n",
       "112  13.7   6.2  \n",
       "113  13.5  10.4  \n",
       "114  39.4  15.0  "
      ]
     },
     "execution_count": 7,
     "metadata": {},
     "output_type": "execute_result"
    }
   ],
   "source": [
    "df"
   ]
  },
  {
   "cell_type": "markdown",
   "metadata": {},
   "source": [
    "Taking the square roots of the values so that the values will be propotional to the areas of the sectors instead of the radius"
   ]
  },
  {
   "cell_type": "code",
   "execution_count": 8,
   "metadata": {},
   "outputs": [
    {
     "name": "stderr",
     "output_type": "stream",
     "text": [
      "C:\\Users\\USER\\AppData\\Local\\Temp\\ipykernel_11780\\1044589646.py:1: SettingWithCopyWarning: \n",
      "A value is trying to be set on a copy of a slice from a DataFrame.\n",
      "Try using .loc[row_indexer,col_indexer] = value instead\n",
      "\n",
      "See the caveats in the documentation: https://pandas.pydata.org/pandas-docs/stable/user_guide/indexing.html#returning-a-view-versus-a-copy\n",
      "  df['JAN'] = np.sqrt(df['JAN'])\n",
      "C:\\Users\\USER\\AppData\\Local\\Temp\\ipykernel_11780\\1044589646.py:2: SettingWithCopyWarning: \n",
      "A value is trying to be set on a copy of a slice from a DataFrame.\n",
      "Try using .loc[row_indexer,col_indexer] = value instead\n",
      "\n",
      "See the caveats in the documentation: https://pandas.pydata.org/pandas-docs/stable/user_guide/indexing.html#returning-a-view-versus-a-copy\n",
      "  df['FEB'] = np.sqrt(df['FEB'])\n",
      "C:\\Users\\USER\\AppData\\Local\\Temp\\ipykernel_11780\\1044589646.py:3: SettingWithCopyWarning: \n",
      "A value is trying to be set on a copy of a slice from a DataFrame.\n",
      "Try using .loc[row_indexer,col_indexer] = value instead\n",
      "\n",
      "See the caveats in the documentation: https://pandas.pydata.org/pandas-docs/stable/user_guide/indexing.html#returning-a-view-versus-a-copy\n",
      "  df['MAR'] = np.sqrt(df['MAR'])\n",
      "C:\\Users\\USER\\AppData\\Local\\Temp\\ipykernel_11780\\1044589646.py:4: SettingWithCopyWarning: \n",
      "A value is trying to be set on a copy of a slice from a DataFrame.\n",
      "Try using .loc[row_indexer,col_indexer] = value instead\n",
      "\n",
      "See the caveats in the documentation: https://pandas.pydata.org/pandas-docs/stable/user_guide/indexing.html#returning-a-view-versus-a-copy\n",
      "  df['APR'] = np.sqrt(df['APR'])\n",
      "C:\\Users\\USER\\AppData\\Local\\Temp\\ipykernel_11780\\1044589646.py:5: SettingWithCopyWarning: \n",
      "A value is trying to be set on a copy of a slice from a DataFrame.\n",
      "Try using .loc[row_indexer,col_indexer] = value instead\n",
      "\n",
      "See the caveats in the documentation: https://pandas.pydata.org/pandas-docs/stable/user_guide/indexing.html#returning-a-view-versus-a-copy\n",
      "  df['MAY'] = np.sqrt(df['MAY'])\n",
      "C:\\Users\\USER\\AppData\\Local\\Temp\\ipykernel_11780\\1044589646.py:6: SettingWithCopyWarning: \n",
      "A value is trying to be set on a copy of a slice from a DataFrame.\n",
      "Try using .loc[row_indexer,col_indexer] = value instead\n",
      "\n",
      "See the caveats in the documentation: https://pandas.pydata.org/pandas-docs/stable/user_guide/indexing.html#returning-a-view-versus-a-copy\n",
      "  df['JUN'] = np.sqrt(df['JUN'])\n",
      "C:\\Users\\USER\\AppData\\Local\\Temp\\ipykernel_11780\\1044589646.py:7: SettingWithCopyWarning: \n",
      "A value is trying to be set on a copy of a slice from a DataFrame.\n",
      "Try using .loc[row_indexer,col_indexer] = value instead\n",
      "\n",
      "See the caveats in the documentation: https://pandas.pydata.org/pandas-docs/stable/user_guide/indexing.html#returning-a-view-versus-a-copy\n",
      "  df['JUL'] = np.sqrt(df['JUL'])\n",
      "C:\\Users\\USER\\AppData\\Local\\Temp\\ipykernel_11780\\1044589646.py:8: SettingWithCopyWarning: \n",
      "A value is trying to be set on a copy of a slice from a DataFrame.\n",
      "Try using .loc[row_indexer,col_indexer] = value instead\n",
      "\n",
      "See the caveats in the documentation: https://pandas.pydata.org/pandas-docs/stable/user_guide/indexing.html#returning-a-view-versus-a-copy\n",
      "  df['AUG'] = np.sqrt(df['AUG'])\n",
      "C:\\Users\\USER\\AppData\\Local\\Temp\\ipykernel_11780\\1044589646.py:9: SettingWithCopyWarning: \n",
      "A value is trying to be set on a copy of a slice from a DataFrame.\n",
      "Try using .loc[row_indexer,col_indexer] = value instead\n",
      "\n",
      "See the caveats in the documentation: https://pandas.pydata.org/pandas-docs/stable/user_guide/indexing.html#returning-a-view-versus-a-copy\n",
      "  df['SEP'] = np.sqrt(df['SEP'])\n",
      "C:\\Users\\USER\\AppData\\Local\\Temp\\ipykernel_11780\\1044589646.py:10: SettingWithCopyWarning: \n",
      "A value is trying to be set on a copy of a slice from a DataFrame.\n",
      "Try using .loc[row_indexer,col_indexer] = value instead\n",
      "\n",
      "See the caveats in the documentation: https://pandas.pydata.org/pandas-docs/stable/user_guide/indexing.html#returning-a-view-versus-a-copy\n",
      "  df['OCT'] = np.sqrt(df['OCT'])\n",
      "C:\\Users\\USER\\AppData\\Local\\Temp\\ipykernel_11780\\1044589646.py:11: SettingWithCopyWarning: \n",
      "A value is trying to be set on a copy of a slice from a DataFrame.\n",
      "Try using .loc[row_indexer,col_indexer] = value instead\n",
      "\n",
      "See the caveats in the documentation: https://pandas.pydata.org/pandas-docs/stable/user_guide/indexing.html#returning-a-view-versus-a-copy\n",
      "  df['NOV'] = np.sqrt(df['NOV'])\n",
      "C:\\Users\\USER\\AppData\\Local\\Temp\\ipykernel_11780\\1044589646.py:12: SettingWithCopyWarning: \n",
      "A value is trying to be set on a copy of a slice from a DataFrame.\n",
      "Try using .loc[row_indexer,col_indexer] = value instead\n",
      "\n",
      "See the caveats in the documentation: https://pandas.pydata.org/pandas-docs/stable/user_guide/indexing.html#returning-a-view-versus-a-copy\n",
      "  df['DEC'] = np.sqrt(df['DEC'])\n"
     ]
    }
   ],
   "source": [
    "df['JAN'] = np.sqrt(df['JAN'])\n",
    "df['FEB'] = np.sqrt(df['FEB'])\n",
    "df['MAR'] = np.sqrt(df['MAR'])\n",
    "df['APR'] = np.sqrt(df['APR'])\n",
    "df['MAY'] = np.sqrt(df['MAY'])\n",
    "df['JUN'] = np.sqrt(df['JUN'])\n",
    "df['JUL'] = np.sqrt(df['JUL'])\n",
    "df['AUG'] = np.sqrt(df['AUG'])\n",
    "df['SEP'] = np.sqrt(df['SEP'])\n",
    "df['OCT'] = np.sqrt(df['OCT'])\n",
    "df['NOV'] = np.sqrt(df['NOV'])\n",
    "df['DEC'] = np.sqrt(df['DEC'])"
   ]
  },
  {
   "cell_type": "code",
   "execution_count": 9,
   "metadata": {},
   "outputs": [
    {
     "data": {
      "application/vnd.plotly.v1+json": {
       "config": {
        "plotlyServerURL": "https://plot.ly"
       },
       "data": [
        {
         "hoverinfo": [
          "all"
         ],
         "marker": {
          "color": "blue",
          "line": {
           "color": "black"
          }
         },
         "name": "January",
         "opacity": 0.7,
         "r": [
          4.358898943540674,
          2.6832815729997477,
          4.09878030638384,
          2.6832815729997477,
          5.118593556827891,
          6.348228099241551,
          4.171330722922842,
          1.6431676725154984,
          4.732863826479693,
          3.4351128074635335,
          2.7386127875258306,
          2.7748873851023217,
          5.338539126015656,
          3.1622776601683795,
          4.159326868617084,
          4.171330722922842
         ],
         "text": [
          2000,
          2001,
          2002,
          2003,
          2004,
          2005,
          2006,
          2007,
          2008,
          2009,
          2010,
          2011,
          2012,
          2013,
          2014,
          2015
         ],
         "theta": [
          0,
          22.5,
          45,
          67.5,
          90,
          112.5,
          135,
          157.5,
          180,
          202.5,
          225,
          247.5,
          270,
          292.5,
          315,
          337.5
         ],
         "type": "barpolar"
        },
        {
         "hoverinfo": [
          "all"
         ],
         "marker": {
          "color": "red",
          "line": {
           "color": "black"
          }
         },
         "name": "February",
         "opacity": 0.7,
         "r": [
          5.196152422706632,
          3.2093613071762426,
          4.58257569495584,
          6.488451279003334,
          3.271085446759225,
          6.782329983125268,
          3.391164991562634,
          5.974947698515862,
          4.381780460041329,
          3.63318042491699,
          4.03732584763727,
          5.128352561983234,
          3.286335345030997,
          6.074537019394976,
          5.089204259999788,
          4.58257569495584
         ],
         "text": [
          2000,
          2001,
          2002,
          2003,
          2004,
          2005,
          2006,
          2007,
          2008,
          2009,
          2010,
          2011,
          2012,
          2013,
          2014,
          2015
         ],
         "theta": [
          0,
          22.5,
          45,
          67.5,
          90,
          112.5,
          135,
          157.5,
          180,
          202.5,
          225,
          247.5,
          270,
          292.5,
          315,
          337.5
         ],
         "type": "barpolar"
        },
        {
         "hoverinfo": [
          "all"
         ],
         "marker": {
          "color": "green",
          "line": {
           "color": "black"
          }
         },
         "name": "March",
         "opacity": 0.7,
         "r": [
          4.312771730569565,
          4.61519230368573,
          4.78539444560216,
          5.805170109479997,
          3.449637662132068,
          6.526867548832288,
          5.865151319446072,
          5.865151319446072,
          6.1400325732035,
          3.8987177379235853,
          4.0743097574926725,
          4.626013402488151,
          3.255764119219941,
          3.8078865529319543,
          5.709640969448079,
          7.874007874011811
         ],
         "text": [
          2000,
          2001,
          2002,
          2003,
          2004,
          2005,
          2006,
          2007,
          2008,
          2009,
          2010,
          2011,
          2012,
          2013,
          2014,
          2015
         ],
         "theta": [
          0,
          22.5,
          45,
          67.5,
          90,
          112.5,
          135,
          157.5,
          180,
          202.5,
          225,
          247.5,
          270,
          292.5,
          315,
          337.5
         ],
         "type": "barpolar"
        },
        {
         "hoverinfo": [
          "all"
         ],
         "marker": {
          "color": "orange",
          "line": {
           "color": "black"
          }
         },
         "name": "April",
         "opacity": 0.7,
         "r": [
          5.916079783099616,
          6.745368781616021,
          6.23698645180507,
          5.958187643906492,
          7.113367697511496,
          6.2048368229954285,
          5.513619500836088,
          5.796550698475776,
          5.709640969448079,
          5.0990195135927845,
          6.488451279003334,
          6.4031242374328485,
          6.96419413859206,
          5.422176684690384,
          4.494441010848846,
          8.330666239863412
         ],
         "text": [
          2000,
          2001,
          2002,
          2003,
          2004,
          2005,
          2006,
          2007,
          2008,
          2009,
          2010,
          2011,
          2012,
          2013,
          2014,
          2015
         ],
         "theta": [
          0,
          22.5,
          45,
          67.5,
          90,
          112.5,
          135,
          157.5,
          180,
          202.5,
          225,
          247.5,
          270,
          292.5,
          315,
          337.5
         ],
         "type": "barpolar"
        },
        {
         "hoverinfo": [
          "all"
         ],
         "marker": {
          "color": "purple",
          "line": {
           "color": "black"
          }
         },
         "name": "May",
         "opacity": 0.7,
         "r": [
          8.573214099741124,
          7.829431652425353,
          7.5960516059331775,
          6.212889826803627,
          8.631338250816034,
          7.092249290598858,
          8.983317872590282,
          7.0992957397195395,
          6.723094525588644,
          7.523297149521611,
          8.306623862918075,
          7.183313998427188,
          5.665686189686118,
          7.516648189186454,
          8.532291603080617,
          7.334848328356899
         ],
         "text": [
          2000,
          2001,
          2002,
          2003,
          2004,
          2005,
          2006,
          2007,
          2008,
          2009,
          2010,
          2011,
          2012,
          2013,
          2014,
          2015
         ],
         "theta": [
          0,
          22.5,
          45,
          67.5,
          90,
          112.5,
          135,
          157.5,
          180,
          202.5,
          225,
          247.5,
          270,
          292.5,
          315,
          337.5
         ],
         "type": "barpolar"
        },
        {
         "hoverinfo": [
          "all"
         ],
         "marker": {
          "color": "pink",
          "line": {
           "color": "black"
          }
         },
         "name": "June",
         "opacity": 0.7,
         "r": [
          13.583077707206124,
          14.66628787389638,
          13.042239071570494,
          12.82575533838066,
          12.953763931769021,
          12.120231020900551,
          12.30447073221762,
          14.191546779685433,
          14.449913494550755,
          9.300537618869138,
          11.870130580579136,
          13.520355024924458,
          11.180339887498949,
          14.761436244485155,
          9.772410142846033,
          13.885243966167826
         ],
         "text": [
          2000,
          2001,
          2002,
          2003,
          2004,
          2005,
          2006,
          2007,
          2008,
          2009,
          2010,
          2011,
          2012,
          2013,
          2014,
          2015
         ],
         "theta": [
          0,
          22.5,
          45,
          67.5,
          90,
          112.5,
          135,
          157.5,
          180,
          202.5,
          225,
          247.5,
          270,
          292.5,
          315,
          337.5
         ],
         "type": "barpolar"
        },
        {
         "hoverinfo": [
          "all"
         ],
         "marker": {
          "color": "brown",
          "line": {
           "color": "black"
          }
         },
         "name": "July",
         "opacity": 0.7,
         "r": [
          16.358484037342826,
          16.76603709884957,
          11.78558441486887,
          17.481418706729727,
          15.546703830716014,
          18.447222013083703,
          17.277152543170995,
          17.198837169994952,
          15.811388300841896,
          16.84339633209407,
          17.134759992483115,
          15.588457268119896,
          16.065490966665166,
          17.475697410976192,
          16.087262041752165,
          15.569200364822851
         ],
         "text": [
          2000,
          2001,
          2002,
          2003,
          2004,
          2005,
          2006,
          2007,
          2008,
          2009,
          2010,
          2011,
          2012,
          2013,
          2014,
          2015
         ],
         "theta": [
          0,
          22.5,
          45,
          67.5,
          90,
          112.5,
          135,
          157.5,
          180,
          202.5,
          225,
          247.5,
          270,
          292.5,
          315,
          337.5
         ],
         "type": "barpolar"
        },
        {
         "hoverinfo": [
          "all"
         ],
         "marker": {
          "color": "black",
          "line": {
           "color": "black"
          }
         },
         "name": "August",
         "opacity": 0.7,
         "r": [
          15.006665185843255,
          14.491376746189438,
          15.690761613127643,
          15.74166446091391,
          15.890248582070704,
          13.856406460551018,
          17.395401691251628,
          16.099689437998485,
          16.25730604989646,
          13.852797551397336,
          16.501515081955354,
          16.870091878825082,
          16.244999230532454,
          15.760710643876436,
          15.424007261409079,
          14.324803663575986
         ],
         "text": [
          2000,
          2001,
          2002,
          2003,
          2004,
          2005,
          2006,
          2007,
          2008,
          2009,
          2010,
          2011,
          2012,
          2013,
          2014,
          2015
         ],
         "theta": [
          0,
          22.5,
          45,
          67.5,
          90,
          112.5,
          135,
          157.5,
          180,
          202.5,
          225,
          247.5,
          270,
          292.5,
          315,
          337.5
         ],
         "type": "barpolar"
        },
        {
         "hoverinfo": [
          "all"
         ],
         "marker": {
          "color": "yellow",
          "line": {
           "color": "black"
          }
         },
         "name": "September",
         "opacity": 0.7,
         "r": [
          11.631852818876277,
          10.449880382090505,
          11.571516754514077,
          13.412680567284081,
          11.117553687749837,
          14.166862743741113,
          13.243866504914644,
          14.66628787389638,
          12.872451204024818,
          11.844830095868831,
          13.98570698963767,
          13.80217374184226,
          14.060583202698243,
          12.181953866272849,
          13.70766209096212,
          11.480418110852932
         ],
         "text": [
          2000,
          2001,
          2002,
          2003,
          2004,
          2005,
          2006,
          2007,
          2008,
          2009,
          2010,
          2011,
          2012,
          2013,
          2014,
          2015
         ],
         "theta": [
          0,
          22.5,
          45,
          67.5,
          90,
          112.5,
          135,
          157.5,
          180,
          202.5,
          225,
          247.5,
          270,
          292.5,
          315,
          337.5
         ],
         "type": "barpolar"
        },
        {
         "hoverinfo": [
          "all"
         ],
         "marker": {
          "color": "cyan",
          "line": {
           "color": "black"
          }
         },
         "name": "October",
         "opacity": 0.7,
         "r": [
          6.371812928829597,
          9.884331034521255,
          7.37563556583431,
          9.628083921528727,
          9.423375191511797,
          9.808159868191384,
          7.231873892705818,
          7.436396977031283,
          7.106335201775948,
          8.372574275573792,
          8.228000972289685,
          6.041522986797286,
          7.733045971672482,
          11.353413583587978,
          7.803845206050668,
          6.549809157525126
         ],
         "text": [
          2000,
          2001,
          2002,
          2003,
          2004,
          2005,
          2006,
          2007,
          2008,
          2009,
          2010,
          2011,
          2012,
          2013,
          2014,
          2015
         ],
         "theta": [
          0,
          22.5,
          45,
          67.5,
          90,
          112.5,
          135,
          157.5,
          180,
          202.5,
          225,
          247.5,
          270,
          292.5,
          315,
          337.5
         ],
         "type": "barpolar"
        },
        {
         "hoverinfo": [
          "all"
         ],
         "marker": {
          "color": "lightblue",
          "line": {
           "color": "black"
          }
         },
         "name": "November",
         "opacity": 0.7,
         "r": [
          3.8340579025361627,
          4.301162633521313,
          3.8340579025361627,
          3.1937438845342623,
          4.110960958218893,
          5.215361924162119,
          5.665686189686118,
          3.8987177379235853,
          5.0099900199501395,
          7.293833011524188,
          7.52994023880668,
          4.2895221179054435,
          5.375872022286245,
          3.7013511046643495,
          3.6742346141747673,
          6.276941930590086
         ],
         "text": [
          2000,
          2001,
          2002,
          2003,
          2004,
          2005,
          2006,
          2007,
          2008,
          2009,
          2010,
          2011,
          2012,
          2013,
          2014,
          2015
         ],
         "theta": [
          0,
          22.5,
          45,
          67.5,
          90,
          112.5,
          135,
          157.5,
          180,
          202.5,
          225,
          247.5,
          270,
          292.5,
          315,
          337.5
         ],
         "type": "barpolar"
        },
        {
         "hoverinfo": [
          "all"
         ],
         "marker": {
          "color": "grey",
          "line": {
           "color": "black"
          }
         },
         "name": "December",
         "opacity": 0.7,
         "r": [
          3.0983866769659336,
          2.449489742783178,
          2.280350850198276,
          4.0743097574926725,
          2.4698178070456938,
          3.391164991562634,
          3.5637059362410923,
          4.08656334834051,
          3.286335345030997,
          3.286335345030997,
          4.701063709417263,
          2.5495097567963922,
          3.0983866769659336,
          2.4899799195977463,
          3.22490309931942,
          3.872983346207417
         ],
         "text": [
          2000,
          2001,
          2002,
          2003,
          2004,
          2005,
          2006,
          2007,
          2008,
          2009,
          2010,
          2011,
          2012,
          2013,
          2014,
          2015
         ],
         "theta": [
          0,
          22.5,
          45,
          67.5,
          90,
          112.5,
          135,
          157.5,
          180,
          202.5,
          225,
          247.5,
          270,
          292.5,
          315,
          337.5
         ],
         "type": "barpolar"
        }
       ],
       "layout": {
        "font": {
         "size": 12
        },
        "height": 900,
        "legend": {
         "font": {
          "size": 15
         }
        },
        "polar": {
         "angularaxis": {
          "linecolor": "black",
          "rotation": 90,
          "showline": true
         },
         "bgcolor": "lightgrey",
         "radialaxis": {
          "gridcolor": "lightgrey",
          "gridwidth": 2,
          "linecolor": "black",
          "showline": true
         }
        },
        "template": {
         "data": {
          "bar": [
           {
            "error_x": {
             "color": "#2a3f5f"
            },
            "error_y": {
             "color": "#2a3f5f"
            },
            "marker": {
             "line": {
              "color": "#E5ECF6",
              "width": 0.5
             },
             "pattern": {
              "fillmode": "overlay",
              "size": 10,
              "solidity": 0.2
             }
            },
            "type": "bar"
           }
          ],
          "barpolar": [
           {
            "marker": {
             "line": {
              "color": "#E5ECF6",
              "width": 0.5
             },
             "pattern": {
              "fillmode": "overlay",
              "size": 10,
              "solidity": 0.2
             }
            },
            "type": "barpolar"
           }
          ],
          "carpet": [
           {
            "aaxis": {
             "endlinecolor": "#2a3f5f",
             "gridcolor": "white",
             "linecolor": "white",
             "minorgridcolor": "white",
             "startlinecolor": "#2a3f5f"
            },
            "baxis": {
             "endlinecolor": "#2a3f5f",
             "gridcolor": "white",
             "linecolor": "white",
             "minorgridcolor": "white",
             "startlinecolor": "#2a3f5f"
            },
            "type": "carpet"
           }
          ],
          "choropleth": [
           {
            "colorbar": {
             "outlinewidth": 0,
             "ticks": ""
            },
            "type": "choropleth"
           }
          ],
          "contour": [
           {
            "colorbar": {
             "outlinewidth": 0,
             "ticks": ""
            },
            "colorscale": [
             [
              0,
              "#0d0887"
             ],
             [
              0.1111111111111111,
              "#46039f"
             ],
             [
              0.2222222222222222,
              "#7201a8"
             ],
             [
              0.3333333333333333,
              "#9c179e"
             ],
             [
              0.4444444444444444,
              "#bd3786"
             ],
             [
              0.5555555555555556,
              "#d8576b"
             ],
             [
              0.6666666666666666,
              "#ed7953"
             ],
             [
              0.7777777777777778,
              "#fb9f3a"
             ],
             [
              0.8888888888888888,
              "#fdca26"
             ],
             [
              1,
              "#f0f921"
             ]
            ],
            "type": "contour"
           }
          ],
          "contourcarpet": [
           {
            "colorbar": {
             "outlinewidth": 0,
             "ticks": ""
            },
            "type": "contourcarpet"
           }
          ],
          "heatmap": [
           {
            "colorbar": {
             "outlinewidth": 0,
             "ticks": ""
            },
            "colorscale": [
             [
              0,
              "#0d0887"
             ],
             [
              0.1111111111111111,
              "#46039f"
             ],
             [
              0.2222222222222222,
              "#7201a8"
             ],
             [
              0.3333333333333333,
              "#9c179e"
             ],
             [
              0.4444444444444444,
              "#bd3786"
             ],
             [
              0.5555555555555556,
              "#d8576b"
             ],
             [
              0.6666666666666666,
              "#ed7953"
             ],
             [
              0.7777777777777778,
              "#fb9f3a"
             ],
             [
              0.8888888888888888,
              "#fdca26"
             ],
             [
              1,
              "#f0f921"
             ]
            ],
            "type": "heatmap"
           }
          ],
          "heatmapgl": [
           {
            "colorbar": {
             "outlinewidth": 0,
             "ticks": ""
            },
            "colorscale": [
             [
              0,
              "#0d0887"
             ],
             [
              0.1111111111111111,
              "#46039f"
             ],
             [
              0.2222222222222222,
              "#7201a8"
             ],
             [
              0.3333333333333333,
              "#9c179e"
             ],
             [
              0.4444444444444444,
              "#bd3786"
             ],
             [
              0.5555555555555556,
              "#d8576b"
             ],
             [
              0.6666666666666666,
              "#ed7953"
             ],
             [
              0.7777777777777778,
              "#fb9f3a"
             ],
             [
              0.8888888888888888,
              "#fdca26"
             ],
             [
              1,
              "#f0f921"
             ]
            ],
            "type": "heatmapgl"
           }
          ],
          "histogram": [
           {
            "marker": {
             "pattern": {
              "fillmode": "overlay",
              "size": 10,
              "solidity": 0.2
             }
            },
            "type": "histogram"
           }
          ],
          "histogram2d": [
           {
            "colorbar": {
             "outlinewidth": 0,
             "ticks": ""
            },
            "colorscale": [
             [
              0,
              "#0d0887"
             ],
             [
              0.1111111111111111,
              "#46039f"
             ],
             [
              0.2222222222222222,
              "#7201a8"
             ],
             [
              0.3333333333333333,
              "#9c179e"
             ],
             [
              0.4444444444444444,
              "#bd3786"
             ],
             [
              0.5555555555555556,
              "#d8576b"
             ],
             [
              0.6666666666666666,
              "#ed7953"
             ],
             [
              0.7777777777777778,
              "#fb9f3a"
             ],
             [
              0.8888888888888888,
              "#fdca26"
             ],
             [
              1,
              "#f0f921"
             ]
            ],
            "type": "histogram2d"
           }
          ],
          "histogram2dcontour": [
           {
            "colorbar": {
             "outlinewidth": 0,
             "ticks": ""
            },
            "colorscale": [
             [
              0,
              "#0d0887"
             ],
             [
              0.1111111111111111,
              "#46039f"
             ],
             [
              0.2222222222222222,
              "#7201a8"
             ],
             [
              0.3333333333333333,
              "#9c179e"
             ],
             [
              0.4444444444444444,
              "#bd3786"
             ],
             [
              0.5555555555555556,
              "#d8576b"
             ],
             [
              0.6666666666666666,
              "#ed7953"
             ],
             [
              0.7777777777777778,
              "#fb9f3a"
             ],
             [
              0.8888888888888888,
              "#fdca26"
             ],
             [
              1,
              "#f0f921"
             ]
            ],
            "type": "histogram2dcontour"
           }
          ],
          "mesh3d": [
           {
            "colorbar": {
             "outlinewidth": 0,
             "ticks": ""
            },
            "type": "mesh3d"
           }
          ],
          "parcoords": [
           {
            "line": {
             "colorbar": {
              "outlinewidth": 0,
              "ticks": ""
             }
            },
            "type": "parcoords"
           }
          ],
          "pie": [
           {
            "automargin": true,
            "type": "pie"
           }
          ],
          "scatter": [
           {
            "fillpattern": {
             "fillmode": "overlay",
             "size": 10,
             "solidity": 0.2
            },
            "type": "scatter"
           }
          ],
          "scatter3d": [
           {
            "line": {
             "colorbar": {
              "outlinewidth": 0,
              "ticks": ""
             }
            },
            "marker": {
             "colorbar": {
              "outlinewidth": 0,
              "ticks": ""
             }
            },
            "type": "scatter3d"
           }
          ],
          "scattercarpet": [
           {
            "marker": {
             "colorbar": {
              "outlinewidth": 0,
              "ticks": ""
             }
            },
            "type": "scattercarpet"
           }
          ],
          "scattergeo": [
           {
            "marker": {
             "colorbar": {
              "outlinewidth": 0,
              "ticks": ""
             }
            },
            "type": "scattergeo"
           }
          ],
          "scattergl": [
           {
            "marker": {
             "colorbar": {
              "outlinewidth": 0,
              "ticks": ""
             }
            },
            "type": "scattergl"
           }
          ],
          "scattermapbox": [
           {
            "marker": {
             "colorbar": {
              "outlinewidth": 0,
              "ticks": ""
             }
            },
            "type": "scattermapbox"
           }
          ],
          "scatterpolar": [
           {
            "marker": {
             "colorbar": {
              "outlinewidth": 0,
              "ticks": ""
             }
            },
            "type": "scatterpolar"
           }
          ],
          "scatterpolargl": [
           {
            "marker": {
             "colorbar": {
              "outlinewidth": 0,
              "ticks": ""
             }
            },
            "type": "scatterpolargl"
           }
          ],
          "scatterternary": [
           {
            "marker": {
             "colorbar": {
              "outlinewidth": 0,
              "ticks": ""
             }
            },
            "type": "scatterternary"
           }
          ],
          "surface": [
           {
            "colorbar": {
             "outlinewidth": 0,
             "ticks": ""
            },
            "colorscale": [
             [
              0,
              "#0d0887"
             ],
             [
              0.1111111111111111,
              "#46039f"
             ],
             [
              0.2222222222222222,
              "#7201a8"
             ],
             [
              0.3333333333333333,
              "#9c179e"
             ],
             [
              0.4444444444444444,
              "#bd3786"
             ],
             [
              0.5555555555555556,
              "#d8576b"
             ],
             [
              0.6666666666666666,
              "#ed7953"
             ],
             [
              0.7777777777777778,
              "#fb9f3a"
             ],
             [
              0.8888888888888888,
              "#fdca26"
             ],
             [
              1,
              "#f0f921"
             ]
            ],
            "type": "surface"
           }
          ],
          "table": [
           {
            "cells": {
             "fill": {
              "color": "#EBF0F8"
             },
             "line": {
              "color": "white"
             }
            },
            "header": {
             "fill": {
              "color": "#C8D4E3"
             },
             "line": {
              "color": "white"
             }
            },
            "type": "table"
           }
          ]
         },
         "layout": {
          "annotationdefaults": {
           "arrowcolor": "#2a3f5f",
           "arrowhead": 0,
           "arrowwidth": 1
          },
          "autotypenumbers": "strict",
          "coloraxis": {
           "colorbar": {
            "outlinewidth": 0,
            "ticks": ""
           }
          },
          "colorscale": {
           "diverging": [
            [
             0,
             "#8e0152"
            ],
            [
             0.1,
             "#c51b7d"
            ],
            [
             0.2,
             "#de77ae"
            ],
            [
             0.3,
             "#f1b6da"
            ],
            [
             0.4,
             "#fde0ef"
            ],
            [
             0.5,
             "#f7f7f7"
            ],
            [
             0.6,
             "#e6f5d0"
            ],
            [
             0.7,
             "#b8e186"
            ],
            [
             0.8,
             "#7fbc41"
            ],
            [
             0.9,
             "#4d9221"
            ],
            [
             1,
             "#276419"
            ]
           ],
           "sequential": [
            [
             0,
             "#0d0887"
            ],
            [
             0.1111111111111111,
             "#46039f"
            ],
            [
             0.2222222222222222,
             "#7201a8"
            ],
            [
             0.3333333333333333,
             "#9c179e"
            ],
            [
             0.4444444444444444,
             "#bd3786"
            ],
            [
             0.5555555555555556,
             "#d8576b"
            ],
            [
             0.6666666666666666,
             "#ed7953"
            ],
            [
             0.7777777777777778,
             "#fb9f3a"
            ],
            [
             0.8888888888888888,
             "#fdca26"
            ],
            [
             1,
             "#f0f921"
            ]
           ],
           "sequentialminus": [
            [
             0,
             "#0d0887"
            ],
            [
             0.1111111111111111,
             "#46039f"
            ],
            [
             0.2222222222222222,
             "#7201a8"
            ],
            [
             0.3333333333333333,
             "#9c179e"
            ],
            [
             0.4444444444444444,
             "#bd3786"
            ],
            [
             0.5555555555555556,
             "#d8576b"
            ],
            [
             0.6666666666666666,
             "#ed7953"
            ],
            [
             0.7777777777777778,
             "#fb9f3a"
            ],
            [
             0.8888888888888888,
             "#fdca26"
            ],
            [
             1,
             "#f0f921"
            ]
           ]
          },
          "colorway": [
           "#636efa",
           "#EF553B",
           "#00cc96",
           "#ab63fa",
           "#FFA15A",
           "#19d3f3",
           "#FF6692",
           "#B6E880",
           "#FF97FF",
           "#FECB52"
          ],
          "font": {
           "color": "#2a3f5f"
          },
          "geo": {
           "bgcolor": "white",
           "lakecolor": "white",
           "landcolor": "#E5ECF6",
           "showlakes": true,
           "showland": true,
           "subunitcolor": "white"
          },
          "hoverlabel": {
           "align": "left"
          },
          "hovermode": "closest",
          "mapbox": {
           "style": "light"
          },
          "paper_bgcolor": "white",
          "plot_bgcolor": "#E5ECF6",
          "polar": {
           "angularaxis": {
            "gridcolor": "white",
            "linecolor": "white",
            "ticks": ""
           },
           "bgcolor": "#E5ECF6",
           "radialaxis": {
            "gridcolor": "white",
            "linecolor": "white",
            "ticks": ""
           }
          },
          "scene": {
           "xaxis": {
            "backgroundcolor": "#E5ECF6",
            "gridcolor": "white",
            "gridwidth": 2,
            "linecolor": "white",
            "showbackground": true,
            "ticks": "",
            "zerolinecolor": "white"
           },
           "yaxis": {
            "backgroundcolor": "#E5ECF6",
            "gridcolor": "white",
            "gridwidth": 2,
            "linecolor": "white",
            "showbackground": true,
            "ticks": "",
            "zerolinecolor": "white"
           },
           "zaxis": {
            "backgroundcolor": "#E5ECF6",
            "gridcolor": "white",
            "gridwidth": 2,
            "linecolor": "white",
            "showbackground": true,
            "ticks": "",
            "zerolinecolor": "white"
           }
          },
          "shapedefaults": {
           "line": {
            "color": "#2a3f5f"
           }
          },
          "ternary": {
           "aaxis": {
            "gridcolor": "white",
            "linecolor": "white",
            "ticks": ""
           },
           "baxis": {
            "gridcolor": "white",
            "linecolor": "white",
            "ticks": ""
           },
           "bgcolor": "#E5ECF6",
           "caxis": {
            "gridcolor": "white",
            "linecolor": "white",
            "ticks": ""
           }
          },
          "title": {
           "x": 0.05
          },
          "xaxis": {
           "automargin": true,
           "gridcolor": "white",
           "linecolor": "white",
           "ticks": "",
           "title": {
            "standoff": 15
           },
           "zerolinecolor": "white",
           "zerolinewidth": 2
          },
          "yaxis": {
           "automargin": true,
           "gridcolor": "white",
           "linecolor": "white",
           "ticks": "",
           "title": {
            "standoff": 15
           },
           "zerolinecolor": "white",
           "zerolinewidth": 2
          }
         }
        },
        "title": {
         "text": "Monthly rainfall in India"
        },
        "width": 900
       }
      }
     },
     "metadata": {},
     "output_type": "display_data"
    }
   ],
   "source": [
    "fig = go.Figure()\n",
    "angles = np.linspace(0, 360, len(df['YEAR']), endpoint=False).tolist()\n",
    "\n",
    "fig.add_trace(go.Barpolar(\n",
    "\tr = list(df['JAN']),\n",
    "\ttheta = angles,\n",
    "\tname = 'January',\n",
    "\tmarker_color = 'blue',\n",
    "\topacity = 0.7,\n",
    "\tmarker_line_color = 'black',\n",
    "\thoverinfo = ['all'],\n",
    "\ttext = df['YEAR']\n",
    "))\n",
    "\n",
    "fig.add_trace(go.Barpolar(\n",
    "\tr = list(df['FEB']),\n",
    "\ttheta = angles,\n",
    "\tname = 'February',\n",
    "\tmarker_color = 'red',\n",
    "\topacity = 0.7,\n",
    "\tmarker_line_color = 'black',\n",
    "\thoverinfo = ['all'],\n",
    "\ttext = df['YEAR']\n",
    "))\n",
    "\n",
    "fig.add_trace(go.Barpolar(\n",
    "\tr = list(df['MAR']),\n",
    "\ttheta = angles,\n",
    "\tname = 'March',\n",
    "\tmarker_color = 'green',\n",
    "\topacity = 0.7,\n",
    "\tmarker_line_color = 'black',\n",
    "\thoverinfo = ['all'],\n",
    "\ttext = df['YEAR']\n",
    "))\n",
    "\n",
    "fig.add_trace(go.Barpolar(\n",
    "\tr = list(df['APR']),\n",
    "\ttheta = angles,\n",
    "\tname = 'April',\n",
    "\tmarker_color = 'orange',\n",
    "\topacity = 0.7,\n",
    "\tmarker_line_color = 'black',\n",
    "\thoverinfo = ['all'],\n",
    "\ttext = df['YEAR']\n",
    "))\n",
    "\n",
    "fig.add_trace(go.Barpolar(\n",
    "\tr = list(df['MAY']),\n",
    "\ttheta = angles,\n",
    "\tname = 'May',\n",
    "\tmarker_color = 'purple',\n",
    "\topacity = 0.7,\n",
    "\tmarker_line_color = 'black',\n",
    "\thoverinfo = ['all'],\n",
    "\ttext = df['YEAR']\n",
    "))\n",
    "\n",
    "fig.add_trace(go.Barpolar(\n",
    "\tr = list(df['JUN']),\n",
    "\ttheta = angles,\n",
    "\tname = 'June',\n",
    "\tmarker_color = 'pink',\n",
    "\topacity = 0.7,\n",
    "\tmarker_line_color = 'black',\n",
    "\thoverinfo = ['all'],\n",
    "\ttext = df['YEAR']\n",
    "))\n",
    "\n",
    "fig.add_trace(go.Barpolar(\n",
    "\tr = list(df['JUL']),\n",
    "\ttheta = angles,\n",
    "\tname = 'July',\n",
    "\tmarker_color = 'brown',\n",
    "\topacity = 0.7,\n",
    "\tmarker_line_color = 'black',\n",
    "\thoverinfo = ['all'],\n",
    "\ttext = df['YEAR']\n",
    "))\n",
    "\n",
    "fig.add_trace(go.Barpolar(\n",
    "\tr = list(df['AUG']),\n",
    "\ttheta = angles,\n",
    "\tname = 'August',\n",
    "\tmarker_color = 'black',\n",
    "\topacity = 0.7,\n",
    "\tmarker_line_color = 'black',\n",
    "\thoverinfo = ['all'],\n",
    "\ttext = df['YEAR']\n",
    "))\n",
    "\n",
    "fig.add_trace(go.Barpolar(\n",
    "\tr = list(df['SEP']),\n",
    "\ttheta = angles,\n",
    "\tname = 'September',\n",
    "\tmarker_color = 'yellow',\n",
    "\topacity = 0.7,\n",
    "\tmarker_line_color = 'black',\n",
    "\thoverinfo = ['all'],\n",
    "\ttext = df['YEAR']\n",
    "))\n",
    "\n",
    "fig.add_trace(go.Barpolar(\n",
    "\tr = list(df['OCT']),\n",
    "\ttheta = angles,\n",
    "\tname = 'October',\n",
    "\tmarker_color = 'cyan',\n",
    "\topacity = 0.7,\n",
    "\tmarker_line_color = 'black',\n",
    "\thoverinfo = ['all'],\n",
    "\ttext = df['YEAR']\n",
    "))\n",
    "\n",
    "fig.add_trace(go.Barpolar(\n",
    "\tr = list(df['NOV']),\n",
    "\ttheta = angles,\n",
    "\tname = 'November',\n",
    "\tmarker_color = 'lightblue',\n",
    "\topacity = 0.7,\n",
    "\tmarker_line_color = 'black',\n",
    "\thoverinfo = ['all'],\n",
    "\ttext = df['YEAR']\n",
    "))\n",
    "\n",
    "fig.add_trace(go.Barpolar(\n",
    "\tr = list(df['DEC']),\n",
    "\ttheta = angles,\n",
    "\tname = 'December',\n",
    "\tmarker_color = 'grey',\n",
    "\topacity = 0.7,\n",
    "\tmarker_line_color = 'black',\n",
    "\thoverinfo = ['all'],\n",
    "\ttext = df['YEAR']\n",
    "))\n",
    "\n",
    "fig.update_layout(\n",
    "\ttitle = 'Monthly rainfall in India',\n",
    "\tfont_size = 12,\n",
    "\tlegend_font_size = 15,\n",
    "\tpolar_angularaxis_rotation = 90,\n",
    "\twidth = 900,\n",
    "\theight = 900,\n",
    " \n",
    "\tpolar = dict(\n",
    "\t\tbgcolor = 'lightgrey',\n",
    "\t\tangularaxis = dict(\n",
    "\t\t\tshowline = True,\n",
    "\t\t\tlinecolor = 'black'\n",
    "\t\t),\n",
    "\n",
    "\tradialaxis = dict(\n",
    "\t\tshowline = True,\n",
    "\t\tlinecolor = 'black',\n",
    "\t\tgridcolor = 'lightgrey',\n",
    "\t\tgridwidth = 2\n",
    "\t)\n",
    "\t)\n",
    ")\n"
   ]
  },
  {
   "cell_type": "code",
   "execution_count": null,
   "metadata": {},
   "outputs": [],
   "source": []
  }
 ],
 "metadata": {
  "kernelspec": {
   "display_name": "Python 3",
   "language": "python",
   "name": "python3"
  },
  "language_info": {
   "codemirror_mode": {
    "name": "ipython",
    "version": 3
   },
   "file_extension": ".py",
   "mimetype": "text/x-python",
   "name": "python",
   "nbconvert_exporter": "python",
   "pygments_lexer": "ipython3",
   "version": "3.12.4"
  }
 },
 "nbformat": 4,
 "nbformat_minor": 2
}
