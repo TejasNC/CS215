{
 "cells": [
  {
   "cell_type": "code",
   "execution_count": 1,
   "metadata": {
    "id": "IiMx7COlpbia"
   },
   "outputs": [],
   "source": [
    "#imports\n",
    "import numpy as np\n",
    "import pandas as pd\n",
    "import matplotlib.pyplot as plt\n",
    "import seaborn as sns"
   ]
  },
  {
   "cell_type": "code",
   "execution_count": 2,
   "metadata": {
    "id": "dUblyP3wpho_"
   },
   "outputs": [],
   "source": [
    "# Load the dataset\n",
    "df = pd.read_csv('TaxiData.csv')"
   ]
  },
  {
   "cell_type": "markdown",
   "metadata": {
    "id": "hnOgRMuvoI9p"
   },
   "source": [
    "```\n",
    "Analysis on overall Dataset.\n",
    "Provide info about columns and its Datatypes.\n",
    "State missing values and other organic analysis.\n",
    "```"
   ]
  },
  {
   "cell_type": "markdown",
   "metadata": {
    "id": "_lBhbIr7xFrf"
   },
   "source": [
    "## Q 1.a"
   ]
  },
  {
   "cell_type": "code",
   "execution_count": 3,
   "metadata": {
    "id": "W-DM1sAAn8EK"
   },
   "outputs": [],
   "source": [
    "# Check data shape, summary, ...\n",
    "\n",
    "# Identify missing values\n",
    "# Plot missing values (customize as needed)\n",
    "# missing_values.plot(...)\n",
    "\n",
    "# Any change of data type conversion required?\n"
   ]
  },
  {
   "cell_type": "markdown",
   "metadata": {},
   "source": [
    "## Preliminary Analysis"
   ]
  },
  {
   "cell_type": "markdown",
   "metadata": {
    "id": "N-wtsijYp4cg"
   },
   "source": [
    "Cheking Data Shape"
   ]
  },
  {
   "cell_type": "code",
   "execution_count": 4,
   "metadata": {},
   "outputs": [
    {
     "data": {
      "text/plain": [
       "(15002, 18)"
      ]
     },
     "execution_count": 4,
     "metadata": {},
     "output_type": "execute_result"
    }
   ],
   "source": [
    "df.shape"
   ]
  },
  {
   "cell_type": "markdown",
   "metadata": {},
   "source": [
    "pickup_community_area is categorical<br>\n",
    "payment_type is categorical<br>\n",
    "trip_start_timestamp is datetime<br>\n",
    "trip_seconds is numerical<br>\n",
    "trip_miles is numerical<br>\n",
    "fare is numerical<br>\n",
    "tips is numerical<br>\n",
    "tolls is numerical<br>\n",
    "dropoff_community_area is categorical<br>\n",
    "trip_total is numerical<br>\n",
    "company is categorical<br>\n",
    "pickup_latitude is numerical<br>\n",
    "pickup_longitude is numerical<br>\n",
    "dropoff_latitude is numerical <br>\n",
    "dropoff_longitude is numerical <br>"
   ]
  },
  {
   "cell_type": "markdown",
   "metadata": {},
   "source": [
    "List of Features in the Data"
   ]
  },
  {
   "cell_type": "code",
   "execution_count": 5,
   "metadata": {},
   "outputs": [
    {
     "name": "stdout",
     "output_type": "stream",
     "text": [
      "pickup_community_area     float64\n",
      "fare                      float64\n",
      "trip_start_month            int64\n",
      "trip_start_hour             int64\n",
      "trip_start_day              int64\n",
      "trip_start_timestamp        int64\n",
      "pickup_latitude           float64\n",
      "pickup_longitude          float64\n",
      "dropoff_latitude          float64\n",
      "dropoff_longitude         float64\n",
      "trip_miles                float64\n",
      "pickup_census_tract       float64\n",
      "dropoff_census_tract      float64\n",
      "payment_type               object\n",
      "company                    object\n",
      "trip_seconds              float64\n",
      "dropoff_community_area    float64\n",
      "tips                      float64\n",
      "dtype: object\n"
     ]
    }
   ],
   "source": [
    "print(df.dtypes)"
   ]
  },
  {
   "cell_type": "code",
   "execution_count": 6,
   "metadata": {},
   "outputs": [
    {
     "data": {
      "text/html": [
       "<div>\n",
       "<style scoped>\n",
       "    .dataframe tbody tr th:only-of-type {\n",
       "        vertical-align: middle;\n",
       "    }\n",
       "\n",
       "    .dataframe tbody tr th {\n",
       "        vertical-align: top;\n",
       "    }\n",
       "\n",
       "    .dataframe thead th {\n",
       "        text-align: right;\n",
       "    }\n",
       "</style>\n",
       "<table border=\"1\" class=\"dataframe\">\n",
       "  <thead>\n",
       "    <tr style=\"text-align: right;\">\n",
       "      <th></th>\n",
       "      <th>pickup_community_area</th>\n",
       "      <th>fare</th>\n",
       "      <th>trip_start_month</th>\n",
       "      <th>trip_start_hour</th>\n",
       "      <th>trip_start_day</th>\n",
       "      <th>trip_start_timestamp</th>\n",
       "      <th>pickup_latitude</th>\n",
       "      <th>pickup_longitude</th>\n",
       "      <th>dropoff_latitude</th>\n",
       "      <th>dropoff_longitude</th>\n",
       "      <th>trip_miles</th>\n",
       "      <th>pickup_census_tract</th>\n",
       "      <th>dropoff_census_tract</th>\n",
       "      <th>payment_type</th>\n",
       "      <th>company</th>\n",
       "      <th>trip_seconds</th>\n",
       "      <th>dropoff_community_area</th>\n",
       "      <th>tips</th>\n",
       "    </tr>\n",
       "  </thead>\n",
       "  <tbody>\n",
       "    <tr>\n",
       "      <th>0</th>\n",
       "      <td>NaN</td>\n",
       "      <td>12.45</td>\n",
       "      <td>5</td>\n",
       "      <td>19</td>\n",
       "      <td>6</td>\n",
       "      <td>1400269500</td>\n",
       "      <td>NaN</td>\n",
       "      <td>NaN</td>\n",
       "      <td>NaN</td>\n",
       "      <td>NaN</td>\n",
       "      <td>0.0</td>\n",
       "      <td>NaN</td>\n",
       "      <td>NaN</td>\n",
       "      <td>Credit Card</td>\n",
       "      <td>Chicago Elite Cab Corp. (Chicago Carriag</td>\n",
       "      <td>0.0</td>\n",
       "      <td>NaN</td>\n",
       "      <td>0.0</td>\n",
       "    </tr>\n",
       "    <tr>\n",
       "      <th>1</th>\n",
       "      <td>NaN</td>\n",
       "      <td>0.00</td>\n",
       "      <td>3</td>\n",
       "      <td>19</td>\n",
       "      <td>5</td>\n",
       "      <td>1362683700</td>\n",
       "      <td>NaN</td>\n",
       "      <td>NaN</td>\n",
       "      <td>NaN</td>\n",
       "      <td>NaN</td>\n",
       "      <td>0.0</td>\n",
       "      <td>NaN</td>\n",
       "      <td>NaN</td>\n",
       "      <td>Unknown</td>\n",
       "      <td>Chicago Elite Cab Corp.</td>\n",
       "      <td>300.0</td>\n",
       "      <td>NaN</td>\n",
       "      <td>0.0</td>\n",
       "    </tr>\n",
       "    <tr>\n",
       "      <th>2</th>\n",
       "      <td>60.0</td>\n",
       "      <td>27.05</td>\n",
       "      <td>10</td>\n",
       "      <td>2</td>\n",
       "      <td>3</td>\n",
       "      <td>1380593700</td>\n",
       "      <td>41.836150</td>\n",
       "      <td>-87.648788</td>\n",
       "      <td>NaN</td>\n",
       "      <td>NaN</td>\n",
       "      <td>12.6</td>\n",
       "      <td>NaN</td>\n",
       "      <td>NaN</td>\n",
       "      <td>Cash</td>\n",
       "      <td>Taxi Affiliation Services</td>\n",
       "      <td>1380.0</td>\n",
       "      <td>NaN</td>\n",
       "      <td>0.0</td>\n",
       "    </tr>\n",
       "    <tr>\n",
       "      <th>3</th>\n",
       "      <td>10.0</td>\n",
       "      <td>5.85</td>\n",
       "      <td>10</td>\n",
       "      <td>1</td>\n",
       "      <td>2</td>\n",
       "      <td>1382319000</td>\n",
       "      <td>41.985015</td>\n",
       "      <td>-87.804532</td>\n",
       "      <td>NaN</td>\n",
       "      <td>NaN</td>\n",
       "      <td>0.0</td>\n",
       "      <td>NaN</td>\n",
       "      <td>NaN</td>\n",
       "      <td>Cash</td>\n",
       "      <td>Taxi Affiliation Services</td>\n",
       "      <td>180.0</td>\n",
       "      <td>NaN</td>\n",
       "      <td>0.0</td>\n",
       "    </tr>\n",
       "    <tr>\n",
       "      <th>4</th>\n",
       "      <td>14.0</td>\n",
       "      <td>16.65</td>\n",
       "      <td>5</td>\n",
       "      <td>7</td>\n",
       "      <td>5</td>\n",
       "      <td>1369897200</td>\n",
       "      <td>41.968069</td>\n",
       "      <td>-87.721559</td>\n",
       "      <td>NaN</td>\n",
       "      <td>NaN</td>\n",
       "      <td>0.0</td>\n",
       "      <td>NaN</td>\n",
       "      <td>NaN</td>\n",
       "      <td>Cash</td>\n",
       "      <td>Dispatch Taxi Affiliation</td>\n",
       "      <td>1080.0</td>\n",
       "      <td>NaN</td>\n",
       "      <td>0.0</td>\n",
       "    </tr>\n",
       "    <tr>\n",
       "      <th>...</th>\n",
       "      <td>...</td>\n",
       "      <td>...</td>\n",
       "      <td>...</td>\n",
       "      <td>...</td>\n",
       "      <td>...</td>\n",
       "      <td>...</td>\n",
       "      <td>...</td>\n",
       "      <td>...</td>\n",
       "      <td>...</td>\n",
       "      <td>...</td>\n",
       "      <td>...</td>\n",
       "      <td>...</td>\n",
       "      <td>...</td>\n",
       "      <td>...</td>\n",
       "      <td>...</td>\n",
       "      <td>...</td>\n",
       "      <td>...</td>\n",
       "      <td>...</td>\n",
       "    </tr>\n",
       "    <tr>\n",
       "      <th>14997</th>\n",
       "      <td>8.0</td>\n",
       "      <td>3.25</td>\n",
       "      <td>5</td>\n",
       "      <td>11</td>\n",
       "      <td>5</td>\n",
       "      <td>1431602100</td>\n",
       "      <td>41.904935</td>\n",
       "      <td>-87.649907</td>\n",
       "      <td>41.904935</td>\n",
       "      <td>-87.649907</td>\n",
       "      <td>0.0</td>\n",
       "      <td>NaN</td>\n",
       "      <td>1.703184e+10</td>\n",
       "      <td>Cash</td>\n",
       "      <td>Taxi Affiliation Services</td>\n",
       "      <td>60.0</td>\n",
       "      <td>8.0</td>\n",
       "      <td>0.0</td>\n",
       "    </tr>\n",
       "    <tr>\n",
       "      <th>14998</th>\n",
       "      <td>8.0</td>\n",
       "      <td>3.25</td>\n",
       "      <td>11</td>\n",
       "      <td>16</td>\n",
       "      <td>4</td>\n",
       "      <td>1385568900</td>\n",
       "      <td>41.904935</td>\n",
       "      <td>-87.649907</td>\n",
       "      <td>41.904935</td>\n",
       "      <td>-87.649907</td>\n",
       "      <td>0.0</td>\n",
       "      <td>NaN</td>\n",
       "      <td>1.703184e+10</td>\n",
       "      <td>Cash</td>\n",
       "      <td>Taxi Affiliation Services</td>\n",
       "      <td>0.0</td>\n",
       "      <td>8.0</td>\n",
       "      <td>0.0</td>\n",
       "    </tr>\n",
       "    <tr>\n",
       "      <th>14999</th>\n",
       "      <td>8.0</td>\n",
       "      <td>4.25</td>\n",
       "      <td>12</td>\n",
       "      <td>13</td>\n",
       "      <td>3</td>\n",
       "      <td>1449579600</td>\n",
       "      <td>41.904935</td>\n",
       "      <td>-87.649907</td>\n",
       "      <td>41.904935</td>\n",
       "      <td>-87.649907</td>\n",
       "      <td>0.3</td>\n",
       "      <td>NaN</td>\n",
       "      <td>1.703184e+10</td>\n",
       "      <td>Cash</td>\n",
       "      <td>NaN</td>\n",
       "      <td>180.0</td>\n",
       "      <td>8.0</td>\n",
       "      <td>0.0</td>\n",
       "    </tr>\n",
       "    <tr>\n",
       "      <th>15000</th>\n",
       "      <td>61.0</td>\n",
       "      <td>9.85</td>\n",
       "      <td>9</td>\n",
       "      <td>15</td>\n",
       "      <td>6</td>\n",
       "      <td>1410534000</td>\n",
       "      <td>41.809018</td>\n",
       "      <td>-87.659167</td>\n",
       "      <td>41.829922</td>\n",
       "      <td>-87.672503</td>\n",
       "      <td>3.0</td>\n",
       "      <td>NaN</td>\n",
       "      <td>NaN</td>\n",
       "      <td>Cash</td>\n",
       "      <td>Taxi Affiliation Services</td>\n",
       "      <td>780.0</td>\n",
       "      <td>59.0</td>\n",
       "      <td>0.0</td>\n",
       "    </tr>\n",
       "    <tr>\n",
       "      <th>15001</th>\n",
       "      <td>8.0</td>\n",
       "      <td>7.45</td>\n",
       "      <td>7</td>\n",
       "      <td>11</td>\n",
       "      <td>4</td>\n",
       "      <td>1374061500</td>\n",
       "      <td>41.895033</td>\n",
       "      <td>-87.619711</td>\n",
       "      <td>NaN</td>\n",
       "      <td>NaN</td>\n",
       "      <td>0.0</td>\n",
       "      <td>1.703108e+10</td>\n",
       "      <td>NaN</td>\n",
       "      <td>Cash</td>\n",
       "      <td>Taxi Affiliation Services</td>\n",
       "      <td>0.0</td>\n",
       "      <td>NaN</td>\n",
       "      <td>0.0</td>\n",
       "    </tr>\n",
       "  </tbody>\n",
       "</table>\n",
       "<p>15002 rows × 18 columns</p>\n",
       "</div>"
      ],
      "text/plain": [
       "       pickup_community_area   fare  trip_start_month  trip_start_hour  \\\n",
       "0                        NaN  12.45                 5               19   \n",
       "1                        NaN   0.00                 3               19   \n",
       "2                       60.0  27.05                10                2   \n",
       "3                       10.0   5.85                10                1   \n",
       "4                       14.0  16.65                 5                7   \n",
       "...                      ...    ...               ...              ...   \n",
       "14997                    8.0   3.25                 5               11   \n",
       "14998                    8.0   3.25                11               16   \n",
       "14999                    8.0   4.25                12               13   \n",
       "15000                   61.0   9.85                 9               15   \n",
       "15001                    8.0   7.45                 7               11   \n",
       "\n",
       "       trip_start_day  trip_start_timestamp  pickup_latitude  \\\n",
       "0                   6            1400269500              NaN   \n",
       "1                   5            1362683700              NaN   \n",
       "2                   3            1380593700        41.836150   \n",
       "3                   2            1382319000        41.985015   \n",
       "4                   5            1369897200        41.968069   \n",
       "...               ...                   ...              ...   \n",
       "14997               5            1431602100        41.904935   \n",
       "14998               4            1385568900        41.904935   \n",
       "14999               3            1449579600        41.904935   \n",
       "15000               6            1410534000        41.809018   \n",
       "15001               4            1374061500        41.895033   \n",
       "\n",
       "       pickup_longitude  dropoff_latitude  dropoff_longitude  trip_miles  \\\n",
       "0                   NaN               NaN                NaN         0.0   \n",
       "1                   NaN               NaN                NaN         0.0   \n",
       "2            -87.648788               NaN                NaN        12.6   \n",
       "3            -87.804532               NaN                NaN         0.0   \n",
       "4            -87.721559               NaN                NaN         0.0   \n",
       "...                 ...               ...                ...         ...   \n",
       "14997        -87.649907         41.904935         -87.649907         0.0   \n",
       "14998        -87.649907         41.904935         -87.649907         0.0   \n",
       "14999        -87.649907         41.904935         -87.649907         0.3   \n",
       "15000        -87.659167         41.829922         -87.672503         3.0   \n",
       "15001        -87.619711               NaN                NaN         0.0   \n",
       "\n",
       "       pickup_census_tract  dropoff_census_tract payment_type  \\\n",
       "0                      NaN                   NaN  Credit Card   \n",
       "1                      NaN                   NaN      Unknown   \n",
       "2                      NaN                   NaN         Cash   \n",
       "3                      NaN                   NaN         Cash   \n",
       "4                      NaN                   NaN         Cash   \n",
       "...                    ...                   ...          ...   \n",
       "14997                  NaN          1.703184e+10         Cash   \n",
       "14998                  NaN          1.703184e+10         Cash   \n",
       "14999                  NaN          1.703184e+10         Cash   \n",
       "15000                  NaN                   NaN         Cash   \n",
       "15001         1.703108e+10                   NaN         Cash   \n",
       "\n",
       "                                        company  trip_seconds  \\\n",
       "0      Chicago Elite Cab Corp. (Chicago Carriag           0.0   \n",
       "1                       Chicago Elite Cab Corp.         300.0   \n",
       "2                     Taxi Affiliation Services        1380.0   \n",
       "3                     Taxi Affiliation Services         180.0   \n",
       "4                     Dispatch Taxi Affiliation        1080.0   \n",
       "...                                         ...           ...   \n",
       "14997                 Taxi Affiliation Services          60.0   \n",
       "14998                 Taxi Affiliation Services           0.0   \n",
       "14999                                       NaN         180.0   \n",
       "15000                 Taxi Affiliation Services         780.0   \n",
       "15001                 Taxi Affiliation Services           0.0   \n",
       "\n",
       "       dropoff_community_area  tips  \n",
       "0                         NaN   0.0  \n",
       "1                         NaN   0.0  \n",
       "2                         NaN   0.0  \n",
       "3                         NaN   0.0  \n",
       "4                         NaN   0.0  \n",
       "...                       ...   ...  \n",
       "14997                     8.0   0.0  \n",
       "14998                     8.0   0.0  \n",
       "14999                     8.0   0.0  \n",
       "15000                    59.0   0.0  \n",
       "15001                     NaN   0.0  \n",
       "\n",
       "[15002 rows x 18 columns]"
      ]
     },
     "execution_count": 6,
     "metadata": {},
     "output_type": "execute_result"
    }
   ],
   "source": [
    "df"
   ]
  },
  {
   "cell_type": "code",
   "execution_count": 7,
   "metadata": {},
   "outputs": [
    {
     "name": "stdout",
     "output_type": "stream",
     "text": [
      "pickup_community_area 2\n",
      "fare 0\n",
      "trip_start_month 0\n",
      "trip_start_hour 0\n",
      "trip_start_day 0\n",
      "trip_start_timestamp 0\n",
      "pickup_latitude 2\n",
      "pickup_longitude 2\n",
      "dropoff_latitude 482\n",
      "dropoff_longitude 482\n",
      "trip_miles 0\n",
      "pickup_census_tract 15001\n",
      "dropoff_census_tract 4241\n",
      "payment_type 0\n",
      "company 5140\n",
      "trip_seconds 6\n",
      "dropoff_community_area 506\n",
      "tips 0\n"
     ]
    }
   ],
   "source": [
    "for col in df.columns:\n",
    "\tprint(col, df[col].isnull().sum())"
   ]
  },
  {
   "cell_type": "markdown",
   "metadata": {},
   "source": [
    "## Identify missing values"
   ]
  },
  {
   "cell_type": "code",
   "execution_count": 8,
   "metadata": {},
   "outputs": [
    {
     "name": "stdout",
     "output_type": "stream",
     "text": [
      "pickup_community_area         2\n",
      "fare                          0\n",
      "trip_start_month              0\n",
      "trip_start_hour               0\n",
      "trip_start_day                0\n",
      "trip_start_timestamp          0\n",
      "pickup_latitude               2\n",
      "pickup_longitude              2\n",
      "dropoff_latitude            482\n",
      "dropoff_longitude           482\n",
      "trip_miles                    0\n",
      "pickup_census_tract       15001\n",
      "dropoff_census_tract       4241\n",
      "payment_type                  0\n",
      "company                    5140\n",
      "trip_seconds                  6\n",
      "dropoff_community_area      506\n",
      "tips                          0\n",
      "dtype: int64\n"
     ]
    }
   ],
   "source": [
    "missing_values = df.isnull().sum()\n",
    "print(missing_values)"
   ]
  },
  {
   "cell_type": "markdown",
   "metadata": {},
   "source": [
    "### Heatmap for visualization of missing values"
   ]
  },
  {
   "cell_type": "code",
   "execution_count": 9,
   "metadata": {},
   "outputs": [
    {
     "data": {
      "image/png": "[encoded data removed]",
      "text/plain": [
       "<Figure size 1000x600 with 1 Axes>"
      ]
     },
     "metadata": {},
     "output_type": "display_data"
    }
   ],
   "source": [
    "plt.figure(figsize=(10, 6))\n",
    "sns.heatmap(df.isnull(), cbar=False)\n",
    "plt.title(\"Missing Values Heatmap\")\n",
    "plt.show()"
   ]
  },
  {
   "cell_type": "markdown",
   "metadata": {},
   "source": [
    "### Bar Chart for visualization of missing values"
   ]
  },
  {
   "cell_type": "code",
   "execution_count": 10,
   "metadata": {},
   "outputs": [
    {
     "data": {
      "image/png": "[encoded data removed]",
      "text/plain": [
       "<Figure size 1000x600 with 1 Axes>"
      ]
     },
     "metadata": {},
     "output_type": "display_data"
    }
   ],
   "source": [
    "missing_values = missing_values[missing_values > 0]  # Filter out columns with no missing values\n",
    "missing_values.sort_values(inplace=True)  # Sort values for better readability\n",
    "\n",
    "plt.figure(figsize=(10, 6))\n",
    "missing_values.plot(kind='bar', color='skyblue')\n",
    "plt.xlabel(\"Columns\")\n",
    "plt.ylabel(\"Number of Missing Values\")\n",
    "plt.title(\"Missing Values Count by Column\")\n",
    "plt.show()"
   ]
  },
  {
   "cell_type": "markdown",
   "metadata": {},
   "source": [
    "The plots show that columns: pickup_census_tract, company, dropoff_census_tract have significant missing values. The pickup_census_tract column is totally missing except for just one row. So it is better to just drop the column"
   ]
  },
  {
   "cell_type": "markdown",
   "metadata": {},
   "source": [
    "## Handling Missing Values"
   ]
  },
  {
   "cell_type": "markdown",
   "metadata": {},
   "source": [
    "Replace the NaN values in the first column with the Mode"
   ]
  },
  {
   "cell_type": "code",
   "execution_count": 11,
   "metadata": {},
   "outputs": [],
   "source": [
    "df['pickup_community_area'].fillna(df['pickup_community_area'].mode()[0], inplace=True)\n",
    "df['dropoff_community_area'].fillna(df['dropoff_community_area'].mode()[0], inplace=True)"
   ]
  },
  {
   "cell_type": "markdown",
   "metadata": {},
   "source": [
    "Replace the latitude and longitude by the mean latitude and longitudes of the corresponding areas."
   ]
  },
  {
   "cell_type": "code",
   "execution_count": 12,
   "metadata": {},
   "outputs": [],
   "source": [
    "df['pickup_latitude'] = df.groupby('pickup_community_area')['pickup_latitude'].transform(lambda x: x.fillna(x.mean()))\n",
    "df['pickup_longitude'] = df.groupby('pickup_community_area')['pickup_longitude'].transform(lambda x: x.fillna(x.mean()))"
   ]
  },
  {
   "cell_type": "markdown",
   "metadata": {},
   "source": [
    "Replace the dropoff_latitude and dropoff_longitude by the mean latitude and longitudes of the corresponding areas."
   ]
  },
  {
   "cell_type": "code",
   "execution_count": 13,
   "metadata": {},
   "outputs": [],
   "source": [
    "df['dropoff_latitude'] = df.groupby('dropoff_community_area')['dropoff_latitude'].transform(lambda x: x.fillna(x.mean()))\n",
    "df['dropoff_longitude'] = df.groupby('dropoff_community_area')['dropoff_longitude'].transform(lambda x: x.fillna(x.mean()))"
   ]
  },
  {
   "cell_type": "markdown",
   "metadata": {},
   "source": [
    "Since there are a lot of missing values in census_tract data, we won't be able to reconstruct the entire series from the available data in a meaningful manner. Therefore, we drop these columns."
   ]
  },
  {
   "cell_type": "code",
   "execution_count": 14,
   "metadata": {},
   "outputs": [],
   "source": [
    "df.drop(['pickup_census_tract', 'dropoff_census_tract'], axis=1, inplace=True)"
   ]
  },
  {
   "cell_type": "markdown",
   "metadata": {},
   "source": [
    "Replace the missing company name by any of  companies in with likelihood proportional to their occurence in the data"
   ]
  },
  {
   "cell_type": "code",
   "execution_count": 15,
   "metadata": {},
   "outputs": [
    {
     "data": {
      "text/plain": [
       "{'Taxi Affiliation Services': 0.5248428310687487,\n",
       " 'Dispatch Taxi Affiliation': 0.16588927195295072,\n",
       " 'Blue Ribbon Taxi Association Inc.': 0.11052524842831069,\n",
       " 'Choice Taxi Association': 0.08842019874264855,\n",
       " 'Northwest Management LLC': 0.055871020077063474,\n",
       " 'KOAM Taxi Association': 0.02494423037923342,\n",
       " 'Top Cab Affiliation': 0.01338470898397891,\n",
       " 'Chicago Elite Cab Corp. (Chicago Carriag': 0.0026363820726019063,\n",
       " 'Chicago Medallion Leasing INC': 0.0022307848306631515,\n",
       " 'Chicago Medallion Management': 0.001723788278239708,\n",
       " 'Chicago Elite Cab Corp.': 0.0009125937943621984,\n",
       " '4197 - 41842 Royal Star': 0.0005069965524234435,\n",
       " '0118 - 42111 Godfrey S.Awir': 0.00040559724193875484,\n",
       " '5074 - 54002 Ahzmi Inc': 0.00040559724193875484,\n",
       " '3253 - 91138 Gaither Cab Co.': 0.0003041979314540661,\n",
       " '3623 - 72222 Arrington Enterprises': 0.0003041979314540661,\n",
       " '1085 - 72312 N and W Cab Co': 0.0003041979314540661,\n",
       " '3201 - C&D Cab Co Inc': 0.0003041979314540661,\n",
       " '3011 - 66308 JBL Cab Inc.': 0.0003041979314540661,\n",
       " '5006 - 39261 Salifu Bawa': 0.0003041979314540661,\n",
       " '2733 - 74600 Benny Jona': 0.0003041979314540661,\n",
       " '3152 - 97284 Crystal Abernathy': 0.0003041979314540661,\n",
       " '5129 - 87128': 0.00020279862096937742,\n",
       " '5129 - Mengisti Taxi': 0.00020279862096937742,\n",
       " '2192 - 73487 Zeymane Corp': 0.00020279862096937742,\n",
       " '4615 - Tyrone Henderson': 0.00020279862096937742,\n",
       " '0694 - 59280 Chinesco Trans Inc': 0.00020279862096937742,\n",
       " '5129 - 98755 Mengisti Taxi': 0.00020279862096937742,\n",
       " '4615 - 83503 Tyrone Henderson': 0.00020279862096937742,\n",
       " 'C & D Cab Co Inc': 0.00020279862096937742,\n",
       " '6488 - 83287 Zuha Taxi': 0.00020279862096937742,\n",
       " '3201 - CID Cab Co Inc': 0.00010139931048468871,\n",
       " '4623 - Jay Kim': 0.00010139931048468871,\n",
       " '6743 - Luhak Corp': 0.00010139931048468871,\n",
       " '5074 - Ahzmi Inc': 0.00010139931048468871,\n",
       " '5006 - Salifu Bawa': 0.00010139931048468871,\n",
       " '5864 - 73614 Thomas Owusu': 0.00010139931048468871,\n",
       " '3897 - Ilie Malec': 0.00010139931048468871,\n",
       " '585 - Valley Cab Co': 0.00010139931048468871,\n",
       " '5724 - KYVI Cab Inc': 0.00010139931048468871,\n",
       " '2809 - 95474 C & D Cab Co Inc.': 0.00010139931048468871,\n",
       " '5864 - Thomas Owusu': 0.00010139931048468871,\n",
       " '3385 - 23210 Eman Cab': 0.00010139931048468871,\n",
       " '5874 - 73628 Sergey Cab Corp.': 0.00010139931048468871,\n",
       " '4197 - Royal Star': 0.00010139931048468871,\n",
       " '4053 - Adwar H. Nikola': 0.00010139931048468871,\n",
       " '5997 - 65283 AW Services Inc.': 0.00010139931048468871,\n",
       " '6574 - Babylon Express Inc.': 0.00010139931048468871,\n",
       " '5874 - Sergey Cab Corp.': 0.00010139931048468871,\n",
       " '2192 - Zeymane Corp': 0.00010139931048468871,\n",
       " '585 - 88805 Valley Cab Co': 0.00010139931048468871,\n",
       " '3319 - CD Cab Co': 0.00010139931048468871,\n",
       " '2092 - 61288 Sbeih company': 0.00010139931048468871,\n",
       " '3385 - Eman Cab': 0.00010139931048468871,\n",
       " '6742 - 83735 Tasha ride inc': 0.00010139931048468871,\n",
       " '4053 - 40193 Adwar H. Nikola': 0.00010139931048468871,\n",
       " '2823 - 73307 Seung Lee': 0.00010139931048468871,\n",
       " '3897 - 57856 Ilie Malec': 0.00010139931048468871,\n",
       " '3094 - 24059 G.L.B. Cab Co': 0.00010139931048468871,\n",
       " '6057 - 24657 Richard Addo': 0.00010139931048468871,\n",
       " '5997 - AW Services Inc.': 0.00010139931048468871}"
      ]
     },
     "execution_count": 15,
     "metadata": {},
     "output_type": "execute_result"
    }
   ],
   "source": [
    "company_dict = df['company'].value_counts(normalize=True).to_dict()\n",
    "company_dict"
   ]
  },
  {
   "cell_type": "code",
   "execution_count": 16,
   "metadata": {},
   "outputs": [],
   "source": [
    "df['company'] = df['company'].apply(lambda x: np.random.choice(list(company_dict.keys()), p=list(company_dict.values())) if pd.isnull(x) else x)"
   ]
  },
  {
   "cell_type": "code",
   "execution_count": 17,
   "metadata": {},
   "outputs": [
    {
     "data": {
      "text/plain": [
       "company\n",
       "Taxi Affiliation Services            7920\n",
       "Dispatch Taxi Affiliation            2482\n",
       "Blue Ribbon Taxi Association Inc.    1647\n",
       "Choice Taxi Association              1314\n",
       "Northwest Management LLC              830\n",
       "                                     ... \n",
       "585 - 88805 Valley Cab Co               1\n",
       "3897 - 57856 Ilie Malec                 1\n",
       "2823 - 73307 Seung Lee                  1\n",
       "2092 - 61288 Sbeih company              1\n",
       "5997 - AW Services Inc.                 1\n",
       "Name: count, Length: 61, dtype: int64"
      ]
     },
     "execution_count": 17,
     "metadata": {},
     "output_type": "execute_result"
    }
   ],
   "source": [
    "df['company'].value_counts()"
   ]
  },
  {
   "cell_type": "markdown",
   "metadata": {},
   "source": [
    "For missing trip_seconds values, we use mean imputation"
   ]
  },
  {
   "cell_type": "code",
   "execution_count": 18,
   "metadata": {},
   "outputs": [],
   "source": [
    "df['trip_seconds'].fillna(df['trip_seconds'].mean(), inplace=True)"
   ]
  },
  {
   "cell_type": "code",
   "execution_count": 19,
   "metadata": {},
   "outputs": [
    {
     "data": {
      "text/plain": [
       "pickup_community_area     0\n",
       "fare                      0\n",
       "trip_start_month          0\n",
       "trip_start_hour           0\n",
       "trip_start_day            0\n",
       "trip_start_timestamp      0\n",
       "pickup_latitude           0\n",
       "pickup_longitude          0\n",
       "dropoff_latitude          0\n",
       "dropoff_longitude         0\n",
       "trip_miles                0\n",
       "payment_type              0\n",
       "company                   0\n",
       "trip_seconds              0\n",
       "dropoff_community_area    0\n",
       "tips                      0\n",
       "dtype: int64"
      ]
     },
     "execution_count": 19,
     "metadata": {},
     "output_type": "execute_result"
    }
   ],
   "source": [
    "df.isna().sum()"
   ]
  },
  {
   "cell_type": "markdown",
   "metadata": {},
   "source": [
    "## Handling Datatypes"
   ]
  },
  {
   "cell_type": "code",
   "execution_count": 20,
   "metadata": {},
   "outputs": [],
   "source": [
    "df['pickup_community_area'] = df['pickup_community_area'].astype('int64')\n",
    "df['fare'] = df['fare'].astype('float64')\n",
    "df['dropoff_community_area'] = df['dropoff_community_area'].astype('int64')\n",
    "df['trip_start_month'] = df['trip_start_month'].astype('int64')\n",
    "df['trip_start_hour'] = df['trip_start_hour'].astype('int64')\n",
    "df['trip_start_day'] = df['trip_start_day'].astype('int64')\n",
    "df['trip_start_timestamp'] = pd.to_datetime(df['trip_start_timestamp'])\n",
    "df['pickup_latitude'] = df['pickup_latitude'].astype('float64')\n",
    "df['pickup_longitude'] = df['pickup_longitude'].astype('float64')\n",
    "df['dropoff_latitude'] = df['dropoff_latitude'].astype('float64')\n",
    "df['dropoff_longitude'] = df['dropoff_longitude'].astype('float64')\n",
    "df['trip_miles'] = df['trip_miles'].astype('float64')\n",
    "df['payment_type'] = df['payment_type'].astype('object')\n",
    "df['company'] = df['company'].astype('object')\n",
    "df['trip_seconds'] = df['trip_seconds'].astype('int64')\n",
    "df['tips'] = df['tips'].astype('float64')"
   ]
  },
  {
   "cell_type": "code",
   "execution_count": 21,
   "metadata": {},
   "outputs": [
    {
     "data": {
      "text/plain": [
       "pickup_community_area              int64\n",
       "fare                             float64\n",
       "trip_start_month                   int64\n",
       "trip_start_hour                    int64\n",
       "trip_start_day                     int64\n",
       "trip_start_timestamp      datetime64[ns]\n",
       "pickup_latitude                  float64\n",
       "pickup_longitude                 float64\n",
       "dropoff_latitude                 float64\n",
       "dropoff_longitude                float64\n",
       "trip_miles                       float64\n",
       "payment_type                      object\n",
       "company                           object\n",
       "trip_seconds                       int64\n",
       "dropoff_community_area             int64\n",
       "tips                             float64\n",
       "dtype: object"
      ]
     },
     "execution_count": 21,
     "metadata": {},
     "output_type": "execute_result"
    }
   ],
   "source": [
    "df.dtypes"
   ]
  },
  {
   "cell_type": "markdown",
   "metadata": {},
   "source": [
    "## Outlier Analysis"
   ]
  },
  {
   "cell_type": "markdown",
   "metadata": {},
   "source": [
    "### Outliers in Trip Distance"
   ]
  },
  {
   "cell_type": "code",
   "execution_count": 22,
   "metadata": {},
   "outputs": [
    {
     "data": {
      "image/png": "[encoded data removed]",
      "text/plain": [
       "<Figure size 1000x500 with 1 Axes>"
      ]
     },
     "metadata": {},
     "output_type": "display_data"
    }
   ],
   "source": [
    "df['trip_miles'].plot(kind='hist', bins=100, figsize=(10, 5))\n",
    "plt.xlabel('Trip Miles')\n",
    "plt.ylabel('Frequency')\n",
    "plt.title('Histogram of Trip Miles')\n",
    "plt.show()"
   ]
  },
  {
   "cell_type": "code",
   "execution_count": 23,
   "metadata": {},
   "outputs": [
    {
     "data": {
      "text/plain": [
       "1"
      ]
     },
     "execution_count": 23,
     "metadata": {},
     "output_type": "execute_result"
    }
   ],
   "source": [
    "# Number of trips with trip miles greater than 200\n",
    "df[df['trip_miles'] > 200].shape[0]"
   ]
  },
  {
   "cell_type": "markdown",
   "metadata": {},
   "source": [
    "Clearly there is an outlier (possibly corrupted data). Let us examine the contents of that row."
   ]
  },
  {
   "cell_type": "code",
   "execution_count": 24,
   "metadata": {},
   "outputs": [
    {
     "data": {
      "text/plain": [
       "pickup_community_area                                76\n",
       "fare                                              35.05\n",
       "trip_start_month                                     10\n",
       "trip_start_hour                                      15\n",
       "trip_start_day                                        1\n",
       "trip_start_timestamp      1970-01-01 00:00:01.443973500\n",
       "pickup_latitude                               41.979071\n",
       "pickup_longitude                              -87.90304\n",
       "dropoff_latitude                              41.880994\n",
       "dropoff_longitude                            -87.632746\n",
       "trip_miles                                       1710.0\n",
       "payment_type                                Credit Card\n",
       "company                       Taxi Affiliation Services\n",
       "trip_seconds                                       2100\n",
       "dropoff_community_area                               32\n",
       "tips                                               5.56\n",
       "Name: 1518, dtype: object"
      ]
     },
     "execution_count": 24,
     "metadata": {},
     "output_type": "execute_result"
    }
   ],
   "source": [
    "df.iloc[df['trip_miles'].argmax()]"
   ]
  },
  {
   "cell_type": "markdown",
   "metadata": {},
   "source": [
    "Replace this distance by the Havesine Distance between the Starting and Ending Coordinates"
   ]
  },
  {
   "cell_type": "code",
   "execution_count": 25,
   "metadata": {},
   "outputs": [
    {
     "name": "stdout",
     "output_type": "stream",
     "text": [
      "Distance: 15.46 miles\n"
     ]
    }
   ],
   "source": [
    "from math import radians, sin, cos, sqrt, atan2\n",
    "\n",
    "# Earth's radius in kilometers\n",
    "R = 6371.0\n",
    "\n",
    "# Coordinates of the points in decimal degrees\n",
    "pickup_lat = 41.979071\n",
    "pickup_lon = -87.90304\n",
    "dropoff_lat = 41.880994\n",
    "dropoff_lon = -87.632746\n",
    "\n",
    "# Convert latitude and longitude from degrees to radians\n",
    "pickup_lat_rad = radians(pickup_lat)\n",
    "pickup_lon_rad = radians(pickup_lon)\n",
    "dropoff_lat_rad = radians(dropoff_lat)\n",
    "dropoff_lon_rad = radians(dropoff_lon)\n",
    "\n",
    "# Differences in coordinates\n",
    "delta_lat = dropoff_lat_rad - pickup_lat_rad\n",
    "delta_lon = dropoff_lon_rad - pickup_lon_rad\n",
    "\n",
    "# Haversine formula\n",
    "a = sin(delta_lat / 2)**2 + cos(pickup_lat_rad) * cos(dropoff_lat_rad) * sin(delta_lon / 2)**2\n",
    "c = 2 * atan2(sqrt(a), sqrt(1 - a))\n",
    "distance = R * c * 0.621371 # Convert to miles\n",
    "\n",
    "df.at[df['trip_miles'].argmax(), 'trip_miles'] = distance\n",
    "\n",
    "print(f\"Distance: {distance:.2f} miles\")"
   ]
  },
  {
   "cell_type": "code",
   "execution_count": 26,
   "metadata": {},
   "outputs": [],
   "source": [
    "df['trip_miles'] = df['trip_miles'].replace(0, df['trip_miles'].mean())"
   ]
  },
  {
   "cell_type": "markdown",
   "metadata": {},
   "source": [
    "### Outliers in Trip Duration"
   ]
  },
  {
   "cell_type": "code",
   "execution_count": 27,
   "metadata": {},
   "outputs": [
    {
     "data": {
      "image/png": "[encoded data removed]",
      "text/plain": [
       "<Figure size 1000x500 with 1 Axes>"
      ]
     },
     "metadata": {},
     "output_type": "display_data"
    }
   ],
   "source": [
    "df['trip_seconds'].plot(kind='hist', bins=100, figsize=(10, 5))\n",
    "plt.xlabel('Trip Seconds')\n",
    "plt.ylabel('Frequency')\n",
    "plt.title('Histogram of Trip Seconds')\n",
    "plt.show()"
   ]
  },
  {
   "cell_type": "code",
   "execution_count": 28,
   "metadata": {},
   "outputs": [
    {
     "data": {
      "text/plain": [
       "count    15002.000000\n",
       "mean       777.627250\n",
       "std        977.343254\n",
       "min          0.000000\n",
       "25%        360.000000\n",
       "50%        540.000000\n",
       "75%        960.000000\n",
       "max      72120.000000\n",
       "Name: trip_seconds, dtype: float64"
      ]
     },
     "execution_count": 28,
     "metadata": {},
     "output_type": "execute_result"
    }
   ],
   "source": [
    "df['trip_seconds'].describe()"
   ]
  },
  {
   "cell_type": "code",
   "execution_count": 29,
   "metadata": {},
   "outputs": [
    {
     "data": {
      "text/plain": [
       "17.90116279793171"
      ]
     },
     "execution_count": 29,
     "metadata": {},
     "output_type": "execute_result"
    }
   ],
   "source": [
    "import warnings\n",
    "warnings.filterwarnings('ignore')\n",
    "# Filter out trips with non-positive trip_seconds to avoid division by zero\n",
    "filtered_df = df[df['trip_seconds'] > 0 & (df['trip_seconds'] < 6000)]\n",
    "\n",
    "# Calculate average speed in miles per hour\n",
    "filtered_df['avg_speed'] = filtered_df['trip_miles'] / (filtered_df['trip_seconds'] / 3600)\n",
    "\n",
    "# Calculate the overall average speed\n",
    "overall_avg_speed = filtered_df['avg_speed'].mean()\n",
    "overall_avg_speed"
   ]
  },
  {
   "cell_type": "code",
   "execution_count": 30,
   "metadata": {},
   "outputs": [
    {
     "data": {
      "text/plain": [
       "company\n",
       "Blue Ribbon Taxi Association Inc.    18.432774\n",
       "Taxi Affiliation Services            18.087685\n",
       "Top Cab Affiliation                  17.807954\n",
       "Northwest Management LLC             17.715619\n",
       "Choice Taxi Association              17.639500\n",
       "Dispatch Taxi Affiliation            17.575560\n",
       "KOAM Taxi Association                16.286819\n",
       "Name: avg_speed, dtype: float64"
      ]
     },
     "execution_count": 30,
     "metadata": {},
     "output_type": "execute_result"
    }
   ],
   "source": [
    "# Calculate the average speed for each company with more than 100 trips\n",
    "company_avg_speed = filtered_df.groupby('company').filter(lambda x: len(x) > 100).groupby('company')['avg_speed'].mean().sort_values(ascending=False)\n",
    "company_avg_speed"
   ]
  },
  {
   "cell_type": "markdown",
   "metadata": {},
   "source": [
    "So it is safe to impute the abnormal trip_duration values using trip_distance and avg_speed"
   ]
  },
  {
   "cell_type": "code",
   "execution_count": 31,
   "metadata": {},
   "outputs": [],
   "source": [
    "df.loc[df['trip_seconds'] == 0, 'trip_seconds'] = df['trip_miles'] / overall_avg_speed * 3600"
   ]
  },
  {
   "cell_type": "code",
   "execution_count": 32,
   "metadata": {},
   "outputs": [
    {
     "name": "stdout",
     "output_type": "stream",
     "text": [
      "Number of trips with trip seconds greater than 1000: 3415\n",
      "Average speed for trips with trip seconds greater than 1000: 16.60 mph\n",
      "Number of trips with trip seconds greater than 2000: 898\n",
      "Average speed for trips with trip seconds greater than 2000: 14.89 mph\n",
      "Number of trips with trip seconds greater than 3000: 272\n",
      "Average speed for trips with trip seconds greater than 3000: 11.43 mph\n",
      "Number of trips with trip seconds greater than 4000: 87\n",
      "Average speed for trips with trip seconds greater than 4000: 8.79 mph\n",
      "Number of trips with trip seconds greater than 5000: 29\n",
      "Average speed for trips with trip seconds greater than 5000: 6.73 mph\n",
      "Number of trips with trip seconds greater than 6000: 13\n",
      "Average speed for trips with trip seconds greater than 6000: 5.04 mph\n",
      "Number of trips with trip seconds greater than 7000: 9\n",
      "Average speed for trips with trip seconds greater than 7000: 3.84 mph\n",
      "Number of trips with trip seconds greater than 8000: 5\n",
      "Average speed for trips with trip seconds greater than 8000: 4.03 mph\n",
      "Number of trips with trip seconds greater than 9000: 5\n",
      "Average speed for trips with trip seconds greater than 9000: 4.03 mph\n"
     ]
    }
   ],
   "source": [
    "for i in range(1000,10000,1000):\n",
    "    print(f\"Number of trips with trip seconds greater than {i}: {df[df['trip_seconds'] > i].shape[0]}\")\n",
    "    # Find avg speed for trips with trip seconds greater than i\n",
    "    avg_speed = df[df['trip_seconds'] > i]['trip_miles'].sum() / (df[df['trip_seconds'] > i]['trip_seconds'].sum() / 3600)\n",
    "    print(f\"Average speed for trips with trip seconds greater than {i}: {avg_speed:.2f} mph\")"
   ]
  },
  {
   "cell_type": "markdown",
   "metadata": {},
   "source": [
    "Here, the avg. speed starts showing unexpected behavior for > 2000 seconds. So we drop all the entriies with greater than 2000 sec duration"
   ]
  },
  {
   "cell_type": "code",
   "execution_count": 33,
   "metadata": {},
   "outputs": [
    {
     "data": {
      "text/plain": [
       "<AxesSubplot: ylabel='Frequency'>"
      ]
     },
     "execution_count": 33,
     "metadata": {},
     "output_type": "execute_result"
    },
    {
     "data": {
      "image/png": "[encoded data removed]",
      "text/plain": [
       "<Figure size 1000x500 with 1 Axes>"
      ]
     },
     "metadata": {},
     "output_type": "display_data"
    }
   ],
   "source": [
    "df.drop(df[df['trip_seconds'] > 2000].index, inplace=True)\n",
    "df['trip_seconds'].plot(kind='hist', bins=100, figsize=(10, 5))"
   ]
  },
  {
   "cell_type": "code",
   "execution_count": 34,
   "metadata": {},
   "outputs": [],
   "source": [
    "# Save the data to a new csv file\n",
    "df.to_csv('TaxiDataCleaned.csv', index=False)"
   ]
  }
 ],
 "metadata": {
  "colab": {
   "provenance": []
  },
  "kernelspec": {
   "display_name": "Python 3",
   "name": "python3"
  },
  "language_info": {
   "codemirror_mode": {
    "name": "ipython",
    "version": 3
   },
   "file_extension": ".py",
   "mimetype": "text/x-python",
   "name": "python",
   "nbconvert_exporter": "python",
   "pygments_lexer": "ipython3",
   "version": "3.12.3"
  }
 },
 "nbformat": 4,
 "nbformat_minor": 0
}
