{
 "cells": [
  {
   "cell_type": "code",
   "execution_count": 8,
   "metadata": {},
   "outputs": [],
   "source": [
    "import numpy as np\n",
    "import pandas as pd\n",
    "import matplotlib.pyplot as plt"
   ]
  },
  {
   "cell_type": "code",
   "execution_count": 9,
   "metadata": {},
   "outputs": [],
   "source": [
    "data = pd.read_csv('air-traffic-prediction/AirtrafficA4.csv')\n",
    "data['PASSENGERS CARRIED'] = pd.to_numeric(data['PASSENGERS CARRIED'].str.replace(',', ''))\n",
    "data[\"YEAR_MONTH\"] = pd.to_datetime(data['YEAR'].astype(str) + '-' + data['MONTH'].str[:3] + '-01', format='%Y-%b-%d')\n",
    "data.set_index(\"YEAR_MONTH\", inplace=True)\n",
    "data = data.sort_values(by='YEAR_MONTH', kind='mergesort')\n",
    "# data.plot(y='PASSENGERS CARRIED')\n",
    "data"
   ]
  },
  {
   "cell_type": "code",
   "execution_count": 10,
   "metadata": {},
   "outputs": [],
   "source": [
    "passengers = data['PASSENGERS CARRIED'].dropna()\n",
    "passengers"
   ]
  },
  {
   "cell_type": "code",
   "execution_count": 11,
   "metadata": {},
   "outputs": [],
   "source": [
    "formatted_data = \", \".join(\" \".join(list(str(int(val)))) for val in passengers)\n",
    "formatted_data"
   ]
  },
  {
   "cell_type": "code",
   "execution_count": 12,
   "metadata": {},
   "outputs": [],
   "source": [
    "prompt = f\"Given the following data for air passengers by month, where each  is separated by a comma: {formatted_data} .Predict the next 12 values yourself without giving me the code for it.\"\n",
    "print(prompt)\n",
    "\n",
    "# response = openai.Completion.create(\n",
    "# \tengine = \"\",\n",
    "# \tprompt = prompt,\n",
    "# \ttemperature = 0,\n",
    "# \tmax_tokens = 256,\n",
    "# \ttop_p = 1,\n",
    "# \tfrequency_penalty = 0,\n",
    "# \tpresence_penalty = 0\n",
    "# )\n",
    "\n",
    "\n"
   ]
  },
  {
   "cell_type": "code",
   "execution_count": 13,
   "metadata": {},
   "outputs": [],
   "source": [
    "# save the prompt in a file\n",
    "with open(\"prompt.txt\", \"w\") as file:\n",
    "    file.write(prompt)"
   ]
  },
  {
   "cell_type": "code",
   "execution_count": 14,
   "metadata": {},
   "outputs": [],
   "source": [
    "from statsforecast.adapters.prophet import AutoARIMAProphet\n",
    "# from prophet import Prophet"
   ]
  },
  {
   "cell_type": "code",
   "execution_count": 15,
   "metadata": {},
   "outputs": [],
   "source": [
    "model = AutoARIMAProphet()\n",
    "# model = Prophet()\n",
    "data = data[:].copy()\n",
    "data.loc[:, 'ds'] = data.index\n",
    "data.loc[:, 'y'] = data['PASSENGERS CARRIED']\n",
    "model.fit(data)"
   ]
  },
  {
   "cell_type": "code",
   "execution_count": 16,
   "metadata": {},
   "outputs": [],
   "source": [
    "future = model.make_future_dataframe(periods=12, freq='MS')\n",
    "future.tail(20)"
   ]
  },
  {
   "cell_type": "code",
   "execution_count": 17,
   "metadata": {},
   "outputs": [],
   "source": [
    "forecast = model.predict(future)\n",
    "forecast.tail(12)"
   ]
  },
  {
   "cell_type": "code",
   "execution_count": 18,
   "metadata": {},
   "outputs": [],
   "source": [
    "fig = model.plot(forecast, include_legend=True)"
   ]
  },
  {
   "cell_type": "code",
   "execution_count": 19,
   "metadata": {},
   "outputs": [],
   "source": [
    "forecast = np.array(forecast['yhat'][-12:])"
   ]
  },
  {
   "cell_type": "code",
   "execution_count": 20,
   "metadata": {},
   "outputs": [],
   "source": [
    "def make_dataframe(forecast):\n",
    "\tforecast_df = pd.DataFrame(forecast, columns=['PASSENGERS CARRIED'])\n",
    "\tforecast_df['YEAR_MONTH'] = ('2023 SEP', '2023 OCT', '2023 NOV', '2023 DEC', '2024 JAN', '2024 FEB', '2024 MAR', '2024 APR', '2024 MAY', '2024 JUN', '2024 JUL', '2024 AUG')\n",
    "\tforecast_df = forecast_df.reindex(columns = ['YEAR_MONTH', 'PASSENGERS CARRIED'])\n",
    "\treturn forecast_df"
   ]
  },
  {
   "cell_type": "code",
   "execution_count": 21,
   "metadata": {},
   "outputs": [],
   "source": [
    "forecast_df = make_dataframe(forecast)\n",
    "forecast_df.to_csv('submission_1.csv', index=False)\n",
    "forecast_df"
   ]
  },
  {
   "cell_type": "code",
   "execution_count": 22,
   "metadata": {},
   "outputs": [],
   "source": [
    "data.head()"
   ]
  },
  {
   "cell_type": "code",
   "execution_count": 23,
   "metadata": {},
   "outputs": [],
   "source": [
    "def create_time_feature(df):\n",
    "    df['dayofmonth'] = df['ds'].dt.day\n",
    "    df['dayofweek'] = df['ds'].dt.dayofweek\n",
    "    df['dayofyear'] = df['ds'].dt.dayofyear\n",
    "    df['month'] = df['ds'].dt.month\n",
    "    df['year'] = df['ds'].dt.year\n",
    "    \n",
    "    return df"
   ]
  },
  {
   "cell_type": "code",
   "execution_count": 24,
   "metadata": {},
   "outputs": [],
   "source": [
    "xgb_data = create_time_feature(data)"
   ]
  },
  {
   "cell_type": "code",
   "execution_count": 25,
   "metadata": {},
   "outputs": [],
   "source": [
    "data.head()"
   ]
  },
  {
   "cell_type": "code",
   "execution_count": 26,
   "metadata": {},
   "outputs": [],
   "source": [
    "# take only the time columns \n",
    "xgb_data = xgb_data[['dayofmonth', 'dayofweek', 'dayofyear', 'month', 'year', 'y']]\n",
    "# drop nan values\n",
    "xgb_data = xgb_data.dropna()\n",
    "xgb_data.head()"
   ]
  },
  {
   "cell_type": "code",
   "execution_count": 27,
   "metadata": {},
   "outputs": [],
   "source": [
    "xgb_x_train = xgb_data.drop('y', axis=1)\n",
    "xgb_y_train = xgb_data['y']"
   ]
  },
  {
   "cell_type": "code",
   "execution_count": 28,
   "metadata": {},
   "outputs": [],
   "source": [
    "xgb_x_train"
   ]
  },
  {
   "cell_type": "code",
   "execution_count": 29,
   "metadata": {},
   "outputs": [],
   "source": [
    "xgb_y_train"
   ]
  },
  {
   "cell_type": "code",
   "execution_count": 30,
   "metadata": {},
   "outputs": [],
   "source": [
    "import xgboost as xgb\n",
    "import lightgbm as lgb\n",
    "from sklearn.ensemble import RandomForestRegressor\n",
    "reg = xgb.XGBRegressor(n_estimators=2000)\n",
    "# reg = lgb.LGBMRegressor(n_estimators=2000)\n",
    "# reg = RandomForestRegressor(n_estimators=5000)\n"
   ]
  },
  {
   "cell_type": "code",
   "execution_count": 31,
   "metadata": {},
   "outputs": [],
   "source": [
    "\n",
    "reg.fit(xgb_x_train, xgb_y_train)"
   ]
  },
  {
   "cell_type": "code",
   "execution_count": 32,
   "metadata": {},
   "outputs": [],
   "source": [
    "xgb_future = model.make_future_dataframe(periods=12, freq='MS')\n",
    "xgb_future = create_time_feature(xgb_future)\n",
    "xgb_future = xgb_future[['dayofmonth', 'dayofweek', 'dayofyear', 'month', 'year']]\n",
    "xgb_future\n"
   ]
  },
  {
   "cell_type": "code",
   "execution_count": 33,
   "metadata": {},
   "outputs": [],
   "source": [
    "# make the fitted plot\n",
    "fitted = reg.predict(xgb_future)\n",
    "fitted.shape"
   ]
  },
  {
   "cell_type": "code",
   "execution_count": 34,
   "metadata": {},
   "outputs": [],
   "source": [
    "fitted"
   ]
  },
  {
   "cell_type": "code",
   "execution_count": 35,
   "metadata": {},
   "outputs": [],
   "source": [
    "# add the ds column to xgb_future\n",
    "xgb_future['ds'] = pd.date_range(start='2013-01-01', periods=140, freq='MS')\n",
    "xgb_future"
   ]
  },
  {
   "cell_type": "code",
   "execution_count": 36,
   "metadata": {},
   "outputs": [],
   "source": [
    "# plot thefitted values on the original data\n",
    "plt.plot(xgb_future['ds'], fitted, color='red')\n",
    "plt.plot(data['ds'], data['y'], color='black')\n",
    "\n",
    "plt.show()"
   ]
  },
  {
   "cell_type": "code",
   "execution_count": 37,
   "metadata": {},
   "outputs": [],
   "source": [
    "def make_dataframe(forecast):\n",
    "\tforecast_df = pd.DataFrame(forecast, columns=['PASSENGERS CARRIED'])\n",
    "\tforecast_df['YEAR_MONTH'] = ('2023 SEP', '2023 OCT', '2023 NOV', '2023 DEC', '2024 JAN', '2024 FEB', '2024 MAR', '2024 APR', '2024 MAY', '2024 JUN', '2024 JUL', '2024 AUG')\n",
    "\tforecast_df = forecast_df.reindex(columns = ['YEAR_MONTH', 'PASSENGERS CARRIED'])\n",
    "\treturn forecast_df"
   ]
  },
  {
   "cell_type": "code",
   "execution_count": 38,
   "metadata": {},
   "outputs": [],
   "source": [
    "fitted"
   ]
  },
  {
   "cell_type": "code",
   "execution_count": 39,
   "metadata": {},
   "outputs": [],
   "source": [
    "# make the forecast dataframe for the last 12 months\n",
    "forecast_df = make_dataframe(fitted[-12:])\n",
    "forecast_df.to_csv('submission_2.csv', index=False)\n",
    "forecast_df"
   ]
  }
 ],
 "metadata": {
  "kernelspec": {
   "display_name": "Python 3",
   "language": "python",
   "name": "python3"
  },
  "language_info": {
   "codemirror_mode": {
    "name": "ipython",
    "version": 3
   },
   "file_extension": ".py",
   "mimetype": "text/x-python",
   "name": "python",
   "nbconvert_exporter": "python",
   "pygments_lexer": "ipython3",
   "version": "3.12.3"
  }
 },
 "nbformat": 4,
 "nbformat_minor": 2
}
